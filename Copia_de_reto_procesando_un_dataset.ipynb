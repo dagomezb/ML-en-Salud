{
  "nbformat": 4,
  "nbformat_minor": 5,
  "metadata": {
    "kernelspec": {
      "name": "python3",
      "display_name": "Python 3"
    },
    "colab": {
      "name": "Copia de reto_procesando_un_dataset.ipynb",
      "provenance": [],
      "include_colab_link": true
    },
    "language_info": {
      "name": "python"
    }
  },
  "cells": [
    {
      "cell_type": "markdown",
      "metadata": {
        "id": "view-in-github",
        "colab_type": "text"
      },
      "source": [
        "<a href=\"https://colab.research.google.com/github/dagomezb/ML-en-Salud/blob/main/Copia_de_reto_procesando_un_dataset.ipynb\" target=\"_parent\"><img src=\"https://colab.research.google.com/assets/colab-badge.svg\" alt=\"Open In Colab\"/></a>"
      ]
    },
    {
      "cell_type": "markdown",
      "metadata": {
        "id": "european-satin"
      },
      "source": [
        "# Reto: procesando un dataset\n",
        "\n",
        "#### Natasha Seelam, PhD\n",
        "#### Head of AI/ML Research @ MindsDB\n",
        "\n",
        "**Agradecimientos especiales: Dr. Dariusz K. Murakowski**\n",
        "\n",
        "Hola, esta notebook servirá como tu guía para preparar datos y crear visualizaciones simples que te servirán para entrenar tu primer modelo de machine learning."
      ],
      "id": "european-satin"
    },
    {
      "cell_type": "markdown",
      "metadata": {
        "id": "jPYW0hU-VaZs"
      },
      "source": [
        "## 0: Descargar el dataset\n",
        "\n",
        "El dataset que utilizaremos es de [Kaggle](https://www.kaggle.com/), un gran lugar para conseguir datasets para tus estudios en ciencia de datos e inteligencia artificial.\n",
        "\n",
        "El dataset es sobre diabetes. Debes descargarlo [aquí](https://www.kaggle.com/mathchi/diabetes-data-set) en Kaggle. El objetivo de este dataset es predecir, dada otra información médica, si alguien tiene la enfermedad.\n",
        "\n",
        "Como primer paso asegúrate de descargarlo y guardalo en una carpeta llamada `db` dentro de tu carpeta `My Drive` en tu Google Drive.\n",
        "\n",
        "![db folder in Google Drive.PNG](data:image/png;base64,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)"
      ],
      "id": "jPYW0hU-VaZs"
    },
    {
      "cell_type": "markdown",
      "metadata": {
        "id": "6rk5_5YTWb2O"
      },
      "source": [
        "## 1: Instalación de librerías y configuración inicial\n",
        "\n",
        "Utilizaremos **numpy** para manejo numérico, **Pandas** para la manipulación de los datos, **matplotlib** para visualizaciones y **drive** para nuestro sistema de archivos en Colab."
      ],
      "id": "6rk5_5YTWb2O"
    },
    {
      "cell_type": "code",
      "metadata": {
        "id": "violent-hamburg"
      },
      "source": [
        "# Paquetes numéricos\n",
        "import numpy as np\n",
        "\n",
        "# DataFrames/Procesamiento\n",
        "import pandas as pd\n",
        "\n",
        "# Gráficas\n",
        "import matplotlib.pyplot as plt"
      ],
      "id": "violent-hamburg",
      "execution_count": 1,
      "outputs": []
    },
    {
      "cell_type": "code",
      "metadata": {
        "id": "KZ-5N4VMF47T",
        "colab": {
          "base_uri": "https://localhost:8080/"
        },
        "outputId": "88da8ebb-5ea8-4e6e-ceb9-c353ba2ac158"
      },
      "source": [
        "# Acceso al sistema de archivos\n",
        "from google.colab import drive\n",
        "drive.mount('/content/drive')"
      ],
      "id": "KZ-5N4VMF47T",
      "execution_count": 2,
      "outputs": [
        {
          "output_type": "stream",
          "name": "stdout",
          "text": [
            "Mounted at /content/drive\n"
          ]
        }
      ]
    },
    {
      "cell_type": "markdown",
      "metadata": {
        "id": "rocky-london"
      },
      "source": [
        "Vayamos al folder donde se encuentra nuestro dataset. Recuerda que puedes usar el comando `cd <location>` para moverte a otros folders dentro de tu Google Drive. Donde `<location>` será la dirección de la carpeta `db`."
      ],
      "id": "rocky-london"
    },
    {
      "cell_type": "code",
      "metadata": {
        "id": "outdoor-entity",
        "colab": {
          "base_uri": "https://localhost:8080/"
        },
        "outputId": "5bbe88df-18dc-4cd5-a2d7-260a01ce7ba5"
      },
      "source": [
        "%cd '/content/drive/My Drive/db' "
      ],
      "id": "outdoor-entity",
      "execution_count": 3,
      "outputs": [
        {
          "output_type": "stream",
          "name": "stdout",
          "text": [
            "/content/drive/My Drive/db\n"
          ]
        }
      ]
    },
    {
      "cell_type": "markdown",
      "metadata": {
        "id": "Avue_ZCGY11F"
      },
      "source": [
        "Usa el comando `pwd` para confirmar que te encuentras en la carpeta."
      ],
      "id": "Avue_ZCGY11F"
    },
    {
      "cell_type": "code",
      "metadata": {
        "id": "GOB_I8o5ZXnf",
        "colab": {
          "base_uri": "https://localhost:8080/",
          "height": 35
        },
        "outputId": "b58b84a7-bcc4-485e-dd63-6eab3de95312"
      },
      "source": [
        "%pwd"
      ],
      "id": "GOB_I8o5ZXnf",
      "execution_count": 4,
      "outputs": [
        {
          "output_type": "execute_result",
          "data": {
            "application/vnd.google.colaboratory.intrinsic+json": {
              "type": "string"
            },
            "text/plain": [
              "'/content/drive/My Drive/db'"
            ]
          },
          "metadata": {},
          "execution_count": 4
        }
      ]
    },
    {
      "cell_type": "markdown",
      "metadata": {
        "id": "KxC4ZCWlZics"
      },
      "source": [
        "Usa el comando `ls` para visualizar que el archivo del dataset está en la carpeta."
      ],
      "id": "KxC4ZCWlZics"
    },
    {
      "cell_type": "code",
      "metadata": {
        "id": "BRACzlMJZefd",
        "colab": {
          "base_uri": "https://localhost:8080/"
        },
        "outputId": "fbfb8751-3938-454c-83c9-19b5e293b0cd"
      },
      "source": [
        "%ls"
      ],
      "id": "BRACzlMJZefd",
      "execution_count": 5,
      "outputs": [
        {
          "output_type": "stream",
          "name": "stdout",
          "text": [
            "diabetes.csv\n"
          ]
        }
      ]
    },
    {
      "cell_type": "markdown",
      "metadata": {
        "id": "overall-style"
      },
      "source": [
        "## 2: Cargando los datos\n",
        "\n",
        "¡Excelente! Es momento de cargar el dataset comenzando a utilizar Pandas. Recuerda que para este curso ya debes manejar esta librería y esta parte servirá como un repaso para que tengas todo para preparar tu modelo de machine learning.\n",
        "\n",
        "Usa el método `read_csv()` para leer y cargar el archivo csv del dataset en un DataFrame.\n",
        "\n",
        "Usa el método `head()` para ver una previsualización del contenido del DataFrame."
      ],
      "id": "overall-style"
    },
    {
      "cell_type": "code",
      "metadata": {
        "id": "stunning-protection",
        "colab": {
          "base_uri": "https://localhost:8080/",
          "height": 206
        },
        "outputId": "d194cec0-dce1-4e2e-ae91-ab819ff19d52"
      },
      "source": [
        "# Leer y cargar el CSV\n",
        "data = pd.read_csv(\"diabetes.csv\")\n",
        "\n",
        "# Ver qué hay en el DataFrame\n",
        "data.head()"
      ],
      "id": "stunning-protection",
      "execution_count": 6,
      "outputs": [
        {
          "output_type": "execute_result",
          "data": {
            "text/html": [
              "\n",
              "  <div id=\"df-85ecbd0e-d590-4c24-b1ea-bc152ae6c429\">\n",
              "    <div class=\"colab-df-container\">\n",
              "      <div>\n",
              "<style scoped>\n",
              "    .dataframe tbody tr th:only-of-type {\n",
              "        vertical-align: middle;\n",
              "    }\n",
              "\n",
              "    .dataframe tbody tr th {\n",
              "        vertical-align: top;\n",
              "    }\n",
              "\n",
              "    .dataframe thead th {\n",
              "        text-align: right;\n",
              "    }\n",
              "</style>\n",
              "<table border=\"1\" class=\"dataframe\">\n",
              "  <thead>\n",
              "    <tr style=\"text-align: right;\">\n",
              "      <th></th>\n",
              "      <th>Pregnancies</th>\n",
              "      <th>Glucose</th>\n",
              "      <th>BloodPressure</th>\n",
              "      <th>SkinThickness</th>\n",
              "      <th>Insulin</th>\n",
              "      <th>BMI</th>\n",
              "      <th>DiabetesPedigreeFunction</th>\n",
              "      <th>Age</th>\n",
              "      <th>Outcome</th>\n",
              "    </tr>\n",
              "  </thead>\n",
              "  <tbody>\n",
              "    <tr>\n",
              "      <th>0</th>\n",
              "      <td>6</td>\n",
              "      <td>148</td>\n",
              "      <td>72</td>\n",
              "      <td>35</td>\n",
              "      <td>0</td>\n",
              "      <td>33.6</td>\n",
              "      <td>0.627</td>\n",
              "      <td>50</td>\n",
              "      <td>1</td>\n",
              "    </tr>\n",
              "    <tr>\n",
              "      <th>1</th>\n",
              "      <td>1</td>\n",
              "      <td>85</td>\n",
              "      <td>66</td>\n",
              "      <td>29</td>\n",
              "      <td>0</td>\n",
              "      <td>26.6</td>\n",
              "      <td>0.351</td>\n",
              "      <td>31</td>\n",
              "      <td>0</td>\n",
              "    </tr>\n",
              "    <tr>\n",
              "      <th>2</th>\n",
              "      <td>8</td>\n",
              "      <td>183</td>\n",
              "      <td>64</td>\n",
              "      <td>0</td>\n",
              "      <td>0</td>\n",
              "      <td>23.3</td>\n",
              "      <td>0.672</td>\n",
              "      <td>32</td>\n",
              "      <td>1</td>\n",
              "    </tr>\n",
              "    <tr>\n",
              "      <th>3</th>\n",
              "      <td>1</td>\n",
              "      <td>89</td>\n",
              "      <td>66</td>\n",
              "      <td>23</td>\n",
              "      <td>94</td>\n",
              "      <td>28.1</td>\n",
              "      <td>0.167</td>\n",
              "      <td>21</td>\n",
              "      <td>0</td>\n",
              "    </tr>\n",
              "    <tr>\n",
              "      <th>4</th>\n",
              "      <td>0</td>\n",
              "      <td>137</td>\n",
              "      <td>40</td>\n",
              "      <td>35</td>\n",
              "      <td>168</td>\n",
              "      <td>43.1</td>\n",
              "      <td>2.288</td>\n",
              "      <td>33</td>\n",
              "      <td>1</td>\n",
              "    </tr>\n",
              "  </tbody>\n",
              "</table>\n",
              "</div>\n",
              "      <button class=\"colab-df-convert\" onclick=\"convertToInteractive('df-85ecbd0e-d590-4c24-b1ea-bc152ae6c429')\"\n",
              "              title=\"Convert this dataframe to an interactive table.\"\n",
              "              style=\"display:none;\">\n",
              "        \n",
              "  <svg xmlns=\"http://www.w3.org/2000/svg\" height=\"24px\"viewBox=\"0 0 24 24\"\n",
              "       width=\"24px\">\n",
              "    <path d=\"M0 0h24v24H0V0z\" fill=\"none\"/>\n",
              "    <path d=\"M18.56 5.44l.94 2.06.94-2.06 2.06-.94-2.06-.94-.94-2.06-.94 2.06-2.06.94zm-11 1L8.5 8.5l.94-2.06 2.06-.94-2.06-.94L8.5 2.5l-.94 2.06-2.06.94zm10 10l.94 2.06.94-2.06 2.06-.94-2.06-.94-.94-2.06-.94 2.06-2.06.94z\"/><path d=\"M17.41 7.96l-1.37-1.37c-.4-.4-.92-.59-1.43-.59-.52 0-1.04.2-1.43.59L10.3 9.45l-7.72 7.72c-.78.78-.78 2.05 0 2.83L4 21.41c.39.39.9.59 1.41.59.51 0 1.02-.2 1.41-.59l7.78-7.78 2.81-2.81c.8-.78.8-2.07 0-2.86zM5.41 20L4 18.59l7.72-7.72 1.47 1.35L5.41 20z\"/>\n",
              "  </svg>\n",
              "      </button>\n",
              "      \n",
              "  <style>\n",
              "    .colab-df-container {\n",
              "      display:flex;\n",
              "      flex-wrap:wrap;\n",
              "      gap: 12px;\n",
              "    }\n",
              "\n",
              "    .colab-df-convert {\n",
              "      background-color: #E8F0FE;\n",
              "      border: none;\n",
              "      border-radius: 50%;\n",
              "      cursor: pointer;\n",
              "      display: none;\n",
              "      fill: #1967D2;\n",
              "      height: 32px;\n",
              "      padding: 0 0 0 0;\n",
              "      width: 32px;\n",
              "    }\n",
              "\n",
              "    .colab-df-convert:hover {\n",
              "      background-color: #E2EBFA;\n",
              "      box-shadow: 0px 1px 2px rgba(60, 64, 67, 0.3), 0px 1px 3px 1px rgba(60, 64, 67, 0.15);\n",
              "      fill: #174EA6;\n",
              "    }\n",
              "\n",
              "    [theme=dark] .colab-df-convert {\n",
              "      background-color: #3B4455;\n",
              "      fill: #D2E3FC;\n",
              "    }\n",
              "\n",
              "    [theme=dark] .colab-df-convert:hover {\n",
              "      background-color: #434B5C;\n",
              "      box-shadow: 0px 1px 3px 1px rgba(0, 0, 0, 0.15);\n",
              "      filter: drop-shadow(0px 1px 2px rgba(0, 0, 0, 0.3));\n",
              "      fill: #FFFFFF;\n",
              "    }\n",
              "  </style>\n",
              "\n",
              "      <script>\n",
              "        const buttonEl =\n",
              "          document.querySelector('#df-85ecbd0e-d590-4c24-b1ea-bc152ae6c429 button.colab-df-convert');\n",
              "        buttonEl.style.display =\n",
              "          google.colab.kernel.accessAllowed ? 'block' : 'none';\n",
              "\n",
              "        async function convertToInteractive(key) {\n",
              "          const element = document.querySelector('#df-85ecbd0e-d590-4c24-b1ea-bc152ae6c429');\n",
              "          const dataTable =\n",
              "            await google.colab.kernel.invokeFunction('convertToInteractive',\n",
              "                                                     [key], {});\n",
              "          if (!dataTable) return;\n",
              "\n",
              "          const docLinkHtml = 'Like what you see? Visit the ' +\n",
              "            '<a target=\"_blank\" href=https://colab.research.google.com/notebooks/data_table.ipynb>data table notebook</a>'\n",
              "            + ' to learn more about interactive tables.';\n",
              "          element.innerHTML = '';\n",
              "          dataTable['output_type'] = 'display_data';\n",
              "          await google.colab.output.renderOutput(dataTable, element);\n",
              "          const docLink = document.createElement('div');\n",
              "          docLink.innerHTML = docLinkHtml;\n",
              "          element.appendChild(docLink);\n",
              "        }\n",
              "      </script>\n",
              "    </div>\n",
              "  </div>\n",
              "  "
            ],
            "text/plain": [
              "   Pregnancies  Glucose  BloodPressure  ...  DiabetesPedigreeFunction  Age  Outcome\n",
              "0            6      148             72  ...                     0.627   50        1\n",
              "1            1       85             66  ...                     0.351   31        0\n",
              "2            8      183             64  ...                     0.672   32        1\n",
              "3            1       89             66  ...                     0.167   21        0\n",
              "4            0      137             40  ...                     2.288   33        1\n",
              "\n",
              "[5 rows x 9 columns]"
            ]
          },
          "metadata": {},
          "execution_count": 6
        }
      ]
    },
    {
      "cell_type": "markdown",
      "metadata": {
        "id": "manufactured-terrorism"
      },
      "source": [
        "### 2a: Entender los datos - tipos\n",
        "\n",
        "Podemos entender los tipos de datos de nuestro modelo. Pandas usa `dtypes` para identificar cada columna.\n",
        "\n",
        "**Nota:** En algunos casos los datos categóricos no se indicarán de manera obvia y tendrás que usar tu criterio de lo que conoces del dataset para determinar si el moldeado es apropiado.\n",
        "\n",
        "- **int64** representa enteros. Los enteros sirven cuando se trata de etiquetar algo, o se tienen grupos discretos. Por ejemplo, alguien puede tener 1 o 2 hijos, pero no 1.5 hijos. \n",
        "\n",
        "También sirven para representar una categoría de mapeo. Por ejemplo, imagina que tienes 3 ciudades donde \"1\" significa \"New York City\", \"2\" significa \"San Francisco\" y \"3\" significa \"Philadelphia\".\n",
        "\n",
        "- **float64** representarn valores numéricos de punto flotante. Estos sirven para representar valores continuos, por ejemplo BMI o insulina, donde decimales/fracciones son permitidas."
      ],
      "id": "manufactured-terrorism"
    },
    {
      "cell_type": "code",
      "metadata": {
        "id": "elementary-found",
        "colab": {
          "base_uri": "https://localhost:8080/"
        },
        "outputId": "8818eda8-06c8-4a11-8c44-4dfa71b5bbe2"
      },
      "source": [
        "data.dtypes"
      ],
      "id": "elementary-found",
      "execution_count": 7,
      "outputs": [
        {
          "output_type": "execute_result",
          "data": {
            "text/plain": [
              "Pregnancies                   int64\n",
              "Glucose                       int64\n",
              "BloodPressure                 int64\n",
              "SkinThickness                 int64\n",
              "Insulin                       int64\n",
              "BMI                         float64\n",
              "DiabetesPedigreeFunction    float64\n",
              "Age                           int64\n",
              "Outcome                       int64\n",
              "dtype: object"
            ]
          },
          "metadata": {},
          "execution_count": 7
        }
      ]
    },
    {
      "cell_type": "markdown",
      "metadata": {
        "id": "complex-fields"
      },
      "source": [
        "### 2a: Preguntas del reto\n",
        "\n",
        "A partir de las siguientes preguntas, debes identificar el tipo de datos que se usaría en cada situación. Deja tus resultados en los comentarios de la clase donde encontraste este notebook.\n",
        "\n",
        "**Pregunta 1** <br>\n",
        "\n",
        "Tienes un conjunto de datos de información de ventas sobre equipos electrónicos. Una de las columnas del conjunto de datos describe qué es el producto: tableta, teléfono inteligente, TV, computadora. ¿Qué tipo de datos es este? <br>\n",
        "\n",
        "**Pregunta 2** <br>\n",
        "A partir del mismo conjunto de datos de equipos electrónicos anterior, tienes información sobre el precio de cada artículo. ¿Qué tipo de datos es este? <br>\n",
        "\n",
        "**Pregunta 3** <br>\n",
        "Tienes información sobre el kilometraje (distancia recorrida) de varios automóviles en un concesionario. ¿Qué tipo de información es esta? <br>\n"
      ],
      "id": "complex-fields"
    },
    {
      "cell_type": "markdown",
      "metadata": {
        "id": "informational-monkey"
      },
      "source": [
        "### 2b: Entender los datos - valores faltantes\n",
        "\n",
        "Antes de entrar al análisis preliminar revisa que no haya ningún valor faltante. Suelen indicarse como \"NaN\" o \"Not a Number\". \n",
        "\n",
        "Usa el método `dropna()` para revisar si existen filas que no deban ser contadas.\n",
        "\n",
        "**Nota:** `dropna()` removerá la fila si una sola columna individual tiene un feature faltante. De forma alternativa puedes especificar si este es el acercamiento indicado, o si quieres eliminar solo filas donde falte toda la información de la columna."
      ],
      "id": "informational-monkey"
    },
    {
      "cell_type": "code",
      "metadata": {
        "id": "alien-traveler",
        "colab": {
          "base_uri": "https://localhost:8080/"
        },
        "outputId": "5da6c873-a9b7-4119-f081-9dfec7166326"
      },
      "source": [
        "print(\"Número original de datapoints\\n\", data.shape) # Filas x Columnas\n",
        "\n",
        "# Elimina cualquier valor faltante y remplazarlos hacia la variable de los datos\n",
        "data = data.dropna()\n",
        "\n",
        "# Comprueba la nueva forma (shape)\n",
        "print(\"Número actualizado de datapoints\\n\", data.shape) # Filas x Columnas\n"
      ],
      "id": "alien-traveler",
      "execution_count": 8,
      "outputs": [
        {
          "output_type": "stream",
          "name": "stdout",
          "text": [
            "Número original de datapoints\n",
            " (768, 9)\n",
            "Número actualizado de datapoints\n",
            " (768, 9)\n"
          ]
        }
      ]
    },
    {
      "cell_type": "markdown",
      "metadata": {
        "id": "ZaqwOE_47oqY"
      },
      "source": [
        "Como puedes observar, no hay valores faltantes, sugeriendo que es un dataset completo. Tenemos 768 filas, o muestras de datos, y 9 columnas o descriptores de esas muestras."
      ],
      "id": "ZaqwOE_47oqY"
    },
    {
      "cell_type": "markdown",
      "metadata": {
        "id": "l-bHJeCj8LDT"
      },
      "source": [
        "## 3: Representando patrones en tus datos\n",
        "\n",
        "Dado nuestro dataset queremos ser capaces de decir si alguien tiene o no diabetes, indicado por la columna *outcome*.\n",
        "\n",
        "Un **1** indica que el paciente **tiene diabetes**, donde **0** sugiere que **no la tiene**. Queremos aprender si las condiciones pre-existentes (age, blood-pressure, insulin, BMI) pueden contribuir a la diabetes.\n",
        "\n",
        "Usaremos histogramas y gráficas de dispersión para ver cómo se comportan los grupos/población de nuestros datos. Es bueno hacer esto antes de construir un modelo."
      ],
      "id": "l-bHJeCj8LDT"
    },
    {
      "cell_type": "markdown",
      "metadata": {
        "id": "blocked-dutch"
      },
      "source": [
        "\n",
        "### 3a: Representando patrones en tus datos - histogramas\n",
        "\n",
        "\n",
        "\n",
        "Primero revisa las distribuciones de frecuencia. Para esto utilizarás un **histograma**.\n",
        "\n",
        "Un histograma usa **bins** o límites de un valor numérico. Contamos cuántas filas caen dentro de los límites superior e inferios de cada bin y esto crea la distribución."
      ],
      "id": "blocked-dutch"
    },
    {
      "cell_type": "markdown",
      "metadata": {
        "id": "greenhouse-baseline"
      },
      "source": [
        "Pandas puede automatizar la creación de histogramas para no contar desde cero. Puedes darle el número de bins o esquinas de los bins (el criterio para límites inferior y superior).\n",
        "\n",
        "Para nuestro caso utiliza el predeterminado (que generalmente es 10 bins).\n",
        "\n",
        "Dado que queremos aprender el estado de si la persona tiene o no diabetes, podemos preguntar si nuestros datos están bien distribuidos en valores de 1 o 0 para el `outcome`. Necesitamos clases igualmente balanceadas para hacer predicciones decentes.\n",
        "\n",
        "Revisa esto con la gráfica de barras resultado del código siguiente:"
      ],
      "id": "greenhouse-baseline"
    },
    {
      "cell_type": "code",
      "metadata": {
        "id": "behavioral-small",
        "colab": {
          "base_uri": "https://localhost:8080/",
          "height": 287
        },
        "outputId": "1801f17b-6970-4410-ecba-85e30c6a3c8f"
      },
      "source": [
        "# Ajustar el tamaño de fuente.\n",
        "plt.rcParams['font.size'] = 15 \n",
        "\n",
        "# Crear una figura y ajusta su tamaño.\n",
        "f = plt.figure(figsize=(8,4))\n",
        "\n",
        "# Crear un subplot o subtrama - al ser una sola figura es 1,1,1.\n",
        "ax = f.add_subplot(1,1,1)\n",
        "\n",
        "# Gráfica tus datos usando 'hist'. Pasa el objeto 'ax' a Pandas. Agrega un borde negro con un groso de 2.\n",
        "data[\"Outcome\"].hist(ax=ax, edgecolor='black', linewidth=2)\n",
        "\n",
        "# Establece los límites en el eje x.\n",
        "ax.set_xlim([-0.5, 1.5])\n",
        "\n",
        "# Establece la frecuencia de tick. Tenemos 0 y 1 que corresponden a Sí y No respectivamente.\n",
        "ax.set_xticks([0, 1])\n",
        "\n",
        "# Etiquetar xtick labels.\n",
        "ax.set_xticklabels([\"N\", \"Y\"])\n",
        "\n",
        "# Crea el título.\n",
        "ax.set_title(\"Diabetes Y/N?\")\n",
        "\n",
        "# Establece la etiqueta del eje X.\n",
        "ax.set_xlabel(\"Answer\")\n",
        "\n",
        "# Establece la etiqueta del eje Y.\n",
        "ax.set_ylabel(\"Count\")\n",
        "\n",
        "# Establece los límites superior/inferior del eje y.\n",
        "ax.set_ylim([0, 510])\n",
        "\n",
        "# Mace que las cosas sean bonitas, no es necesario, pero se ajusta al tamaño de la figura.\n",
        "f.tight_layout()"
      ],
      "id": "behavioral-small",
      "execution_count": 9,
      "outputs": [
        {
          "output_type": "display_data",
          "data": {
            "image/png": "[encoded data removed]",
            "text/plain": [
              "<Figure size 576x288 with 1 Axes>"
            ]
          },
          "metadata": {
            "needs_background": "light"
          }
        }
      ]
    },
    {
      "cell_type": "markdown",
      "metadata": {
        "id": "anticipated-cisco"
      },
      "source": [
        "De lo anterior, podemos ver que tenemos más \"No\" que \"Sí\", lo que significa que hay más personas sin diabetes en este conjunto de muestra que con diabetes.\n"
      ],
      "id": "anticipated-cisco"
    },
    {
      "cell_type": "markdown",
      "metadata": {
        "id": "simple-trunk"
      },
      "source": [
        "Intentemos esto con una columna más complicada, como la edad. Nos gustaría ver el rango de edad de los pacientes con los que estamos trabajando. Esto puede deberse a que los pacientes mayores y los más jóvenes tienen necesidades médicas diferentes.\n",
        "\n",
        "Por ejemplo, podemos usar un histograma para observar específicamente la edad de nuestros pacientes:"
      ],
      "id": "simple-trunk"
    },
    {
      "cell_type": "code",
      "metadata": {
        "id": "central-consideration",
        "colab": {
          "base_uri": "https://localhost:8080/",
          "height": 287
        },
        "outputId": "9dcb20e8-ede3-4698-fec5-f8a18aad78a2"
      },
      "source": [
        "f = plt.figure(figsize=(8,4))\n",
        "ax = f.add_subplot(1,1,1)\n",
        "data[\"Age\"].hist(ax=ax, edgecolor='black', linewidth=2)\n",
        "ax.set_title(\"Age range of patients\")\n",
        "ax.set_ylim([0, 510])\n",
        "ax.set_xlabel(\"Age\")\n",
        "ax.set_ylabel(\"Count\")\n",
        "f.tight_layout()"
      ],
      "id": "central-consideration",
      "execution_count": 10,
      "outputs": [
        {
          "output_type": "display_data",
          "data": {
            "image/png": "[encoded data removed]",
            "text/plain": [
              "<Figure size 576x288 with 1 Axes>"
            ]
          },
          "metadata": {
            "needs_background": "light"
          }
        }
      ]
    },
    {
      "cell_type": "markdown",
      "metadata": {
        "id": "latin-imperial"
      },
      "source": [
        "Si resolviste lo anterior, la mayoría de nuestros pacientes parecen tener entre 20 y 40 años. Algunos son mayores. Es posible que deseemos probar diferentes valores de bin.\n"
      ],
      "id": "latin-imperial"
    },
    {
      "cell_type": "markdown",
      "metadata": {
        "id": "_FkWfCktL_Ua"
      },
      "source": [
        "### 3a: Ejercicio del reto 1\n",
        "Prueba con diferentes valores de anchos de `bins` para realizar el histograma anterior. ¿Cómo harías esta gráfica? Escribe tu código respuesta abajo. Usa un límite de y (`set_ylim`) de $[0, 510]$.\n",
        "\n",
        "Pista:\n",
        "```\n",
        "binvalues = [20, 25, 30, 35, 40, 85]\n",
        "bins = binvalues\n",
        "```"
      ],
      "id": "_FkWfCktL_Ua"
    },
    {
      "cell_type": "code",
      "metadata": {
        "id": "diverse-price"
      },
      "source": [
        "## TU CODIGO AQUI"
      ],
      "id": "diverse-price",
      "execution_count": null,
      "outputs": []
    },
    {
      "cell_type": "markdown",
      "metadata": {
        "id": "rising-diana"
      },
      "source": [
        "\n",
        "Si lograste resolver el ejercicio notarás las diferentes formas en la distribución. El número de conteo ha disminuido en cada bin también. \n",
        "\n",
        "Es importante entender tus ejes *x* y *y* al hacer histogramas para que la misma forma no te engañe. El último bin es casi 9 veces más grande que los otros anchos de bins, de ahí que parezca que contiene muchos más pacientes."
      ],
      "id": "rising-diana"
    },
    {
      "cell_type": "markdown",
      "metadata": {
        "id": "noted-wiring"
      },
      "source": [
        "### 3a: Ejercicio del reto 2\n",
        "\n",
        "Prueba esto ahora: en lugar de especificar los bins en tu código, deja que Pandas maneje los bordes de cada bin. Crea el mismo histograma anterior usando `bins = 5` en lugar de 10."
      ],
      "id": "noted-wiring"
    },
    {
      "cell_type": "code",
      "metadata": {
        "id": "fewer-auckland"
      },
      "source": [
        "## TU CODIGO AQUI"
      ],
      "id": "fewer-auckland",
      "execution_count": null,
      "outputs": []
    },
    {
      "cell_type": "markdown",
      "metadata": {
        "id": "illegal-armstrong"
      },
      "source": [
        "¡Esta distribución es similar a la primera que generamos! Nota que todavía están igualmente espaciados, pero más gruesos.\n",
        "\n",
        "Al hacer histogramas, es muy importante que entendamos cómo se distribuyen los datos, es decir, dónde se encuentran los valores más frecuentes."
      ],
      "id": "illegal-armstrong"
    },
    {
      "cell_type": "markdown",
      "metadata": {
        "id": "unlimited-jerusalem"
      },
      "source": [
        "### 3b: Representando patrones en tus datos - gráficas de dispersión (scatterplots)\n",
        "\n",
        "Los histogramas muestran datos en conjunto de una manera conveniente basada en conteos. A veces, es posible que quieras ver cómo determinadas características (features) o columnas tienen relaciones entre sí.\n",
        "\n",
        "Para hacer esto usamos un diagrama o gráfica de dispersión. Una gráfica de dispersión muestra cada punto de datos de su conjunto de datos como una relación entre dos features que especificas.\n",
        "\n",
        "Recuerda que esto se hace tomando 2 columnas del dataset y graficando, para cada fila, el valor de $(f_1, f_2)$ donde $f$ representa un feature o columna en los ejes *x* y *y* respectivamente.\n",
        "\n",
        "Crearemos una gráfica entre BloodPressure (x) y Age (y). Para esto asumimos que las personas jóvenes tiene presiones de sangre (BloodPressure) más bajas."
      ],
      "id": "unlimited-jerusalem"
    },
    {
      "cell_type": "code",
      "metadata": {
        "id": "endless-growing",
        "colab": {
          "base_uri": "https://localhost:8080/",
          "height": 287
        },
        "outputId": "957512f6-f2d4-4a06-d8ed-607e49e669d5"
      },
      "source": [
        "plt.rcParams['font.size'] = 15 \n",
        "f = plt.figure(figsize=(8,4))\n",
        "ax = f.add_subplot(1,1,1)\n",
        "ax.scatter(data[\"Age\"], data[\"BloodPressure\"], alpha=0.25)\n",
        "ax.set_title(\"Blood pressure vs. age range of patients\")\n",
        "ax.set_ylabel(\"Blood pressure\")\n",
        "ax.set_xlabel(\"Age\")\n",
        "f.tight_layout() "
      ],
      "id": "endless-growing",
      "execution_count": 11,
      "outputs": [
        {
          "output_type": "display_data",
          "data": {
            "image/png": "[encoded data removed]",
            "text/plain": [
              "<Figure size 576x288 with 1 Axes>"
            ]
          },
          "metadata": {
            "needs_background": "light"
          }
        }
      ]
    },
    {
      "cell_type": "markdown",
      "metadata": {
        "id": "amino-opportunity"
      },
      "source": [
        "¡Nota algo interesante aquí! ¡Hay varias personas con 0 presión arterial! Desde el punto de vista médico esto es muy extraño.\n",
        "\n",
        "Los diagramas de dispersión nos ayudan a comprender cómo nuestros datos pueden tener información inapropiada o faltante. En el caso anterior, es poco probable que las personas tengan 0 presión arterial, pero es más probable que el profesional médico no tuviera estos datos listos o no se midieron. No queremos entrenar modelos con este tipo de información.\n",
        "\n",
        "Para lo siguientes podemos considerar estos puntos como **outliers** or **anomalías**. Para este caso sería apropiado removerlas del dataset para asegurar que entrenamos nuestro modelo con solo los valores reportados completos.\n",
        "\n",
        "Para realizar lo anterior usaremos Pandas para solo [seleccionar](https://pandas.pydata.org/pandas-docs/stable/user_guide/indexing.html#boolean-indexing) las filas de nuestro dataset donde BloodPressure > 0."
      ],
      "id": "amino-opportunity"
    },
    {
      "cell_type": "code",
      "metadata": {
        "id": "systematic-prefix"
      },
      "source": [
        "# Seleccionar las filas donde el valor es mayor a 0.\n",
        "data = data[data[\"BloodPressure\"] > 0]\n",
        "print(\"Patients with blood pressure\\n\", data.shape) # Rows x Columns\n"
      ],
      "id": "systematic-prefix",
      "execution_count": null,
      "outputs": []
    },
    {
      "cell_type": "markdown",
      "metadata": {
        "id": "affiliated-boards"
      },
      "source": [
        "Removimos 35 registros que tenían esta anomalía. Volvamos a gráficar y observar los datos."
      ],
      "id": "affiliated-boards"
    },
    {
      "cell_type": "code",
      "metadata": {
        "id": "reduced-throat"
      },
      "source": [
        "plt.rcParams['font.size'] = 15 \n",
        "f = plt.figure(figsize=(8,4))\n",
        "ax = f.add_subplot(1,1,1)\n",
        "ax.scatter(data[\"Age\"], data[\"BloodPressure\"], alpha=0.25)\n",
        "ax.set_title(\"Blood Pressure v. Age range of patients\")\n",
        "ax.set_ylabel(\"Blood Pressure\")\n",
        "ax.set_xlabel(\"Age\")\n",
        "f.tight_layout() # Makes things pretty"
      ],
      "id": "reduced-throat",
      "execution_count": null,
      "outputs": []
    },
    {
      "cell_type": "markdown",
      "metadata": {
        "id": "steady-player"
      },
      "source": [
        "Ahora podemos ver que tenemos una tendencia un poco más clara:\n",
        "\n",
        "- Pacientes mayores tienden a tener más probabilidades de tener una presión arterial más alta. \n",
        "- Pacientes más jóvenes pueden estar más dispersos.\n",
        "\n"
      ],
      "id": "steady-player"
    },
    {
      "cell_type": "markdown",
      "metadata": {
        "id": "oLL-JlQZYk09"
      },
      "source": [
        "### 3b: Ejercicio del reto 1\n",
        "\n",
        "Demos un paso más allá. Grafica este análisis de la presión sanguínea considerando si las personas son o no diabéticas (`Outcome = 1` o `Outcome = 0`).\n",
        "\n",
        "En el siguiente bloque de código primero te dejo el ejemplo de personas con diabetes. Realiza la segunda gráfica para personas sin diabetes."
      ],
      "id": "oLL-JlQZYk09"
    },
    {
      "cell_type": "code",
      "metadata": {
        "id": "related-health"
      },
      "source": [
        "diabetic = data[data[\"Outcome\"] == 1]\n",
        "notdiabetic = data[data[\"Outcome\"] == 0]\n",
        "\n",
        "plt.rcParams['font.size'] = 15 \n",
        "f = plt.figure(figsize=(8,8))\n",
        "ax = f.add_subplot(2,1,1)\n",
        "ax.scatter(diabetic[\"BloodPressure\"], diabetic[\"Age\"], alpha=0.25, c='r')\n",
        "ax.set_title(\"Diabetic: Age range of patients v. Blood Pressure\")\n",
        "ax.set_ylabel(\"Age\")\n",
        "ax.set_xlabel(\"Blood Pressure\")\n",
        "\n",
        "## TU CODIGO AQUI\n",
        "\n",
        "f.tight_layout() "
      ],
      "id": "related-health",
      "execution_count": null,
      "outputs": []
    },
    {
      "cell_type": "markdown",
      "metadata": {
        "id": "Xh5yAmBBd0nE"
      },
      "source": [
        "Comparte tus resultados en los comentarios de la clase. También deja tus observaciones: ¿Qué notas entre estas dos gráficas?"
      ],
      "id": "Xh5yAmBBd0nE"
    },
    {
      "cell_type": "markdown",
      "metadata": {
        "id": "difficult-storage"
      },
      "source": [
        "## 4: Preparándose para construir modelos de machine learning\n",
        "\n",
        "For the last part of the notebook, we will discuss how to think about building a model for this dataset.\n",
        "\n",
        "Broadly, machine learning algorithms can generally be categorized into 3 large domains: **supervised learning**, **unsupervised learning**, and **reinforcement learning**. Our course will cover the first two components.\n",
        "\n",
        "Los algoritmos de machine learning se pueden clasificar en tres grandes dominios: \n",
        "\n",
        "- **Aprendizaje supervisado**.\n",
        "- **Aprendizaje no supervisado**.\n",
        "-**Aprendizaje reforzado**. \n",
        "\n",
        "Nuestro curso cubrirá las bases de los dos primeros.\n",
        "\n",
        "### 4b: aprendizaje supervisado\n",
        "\n",
        "Le pregunta a un modelo a a prender a cómo predecir una salida o outcome. \n",
        "\n",
        "Hay dos tipos de outcomes: es posible que quieras predecir una etiqueta en particular o un valor numérico en particular. Esto es **clasificación** y **regresión** respectivamente.\n",
        "\n",
        "### 4a: aprendizaje no supervisado\n",
        "\n",
        "Le pregunta a un modelo a aprender cómo agrupar tus datos. No hay target o outcome que conozcas previamente. \n",
        "\n",
        "Es muy útil cuando necesitas segmentar tus datos en categorías, o identificar los features o características para agrupaciones dentro de tus datos.\n",
        "\n",
        "Típicamente se lleva a cabo con **clustering** o clusterización y con **dimensionality reduction** o reducción de dimensionalidad respecticamente.\n",
        "\n",
        "---\n",
        "\n",
        "Para nuestro dataset de diabetes queremos predecir si un paciente tiene o no este padecimiento. \n",
        "\n",
        "Esto puede pensarse como etiquetas \"Sí - tiene diabetes\" o \"No - no tiene diabetes\". Por lo que este tipo de datos se beneficiaría de **clasificación con aprendizaje supervisado**."
      ],
      "id": "difficult-storage"
    },
    {
      "cell_type": "markdown",
      "metadata": {
        "id": "hired-chart"
      },
      "source": [
        "### 4: Preguntas del reto\n",
        "\n",
        "A continuación, te daré un par de ejemplos para tratar de comprender qué tipos de modelos debería utilizar. Responde en los comentarios de la clase a qué tipo de algoritmo se refiere la situación.\n",
        "\n",
        "**Pregunta 1** <br>\n",
        "\n",
        "Tienes un conjunto de datos de una empresa de ropa y deseas predecir el volumen de ventas de vestidos en el próximo mes. ¿Qué tipo de problema es? <br>\n",
        "\n",
        "**Pregunta 2** <br>\n",
        "\n",
        "Al igual que en la primera pregunta, estás utilizando un conjunto de datos de ropa. En lugar de predecir el volumen de ventas, querrás saber si venderás al menos 1000 de un determinado tipo de vestido. ¿Qué tipo de problema es este? <br>\n",
        "\n",
        "**Pregunta 3** <br>\n",
        "\n",
        "Tienes información sobre cómo compran ropa los clientes en tu tienda. Tienes un conjunto de datos de sus compras, segmentado en categorías: la cantidad de pantalones, camisas, vestidos y faldas que compra cada cliente. Deseas segmentar a tus clientes en diferentes grupos para poder enviar anuncios a cada grupo, según lo que quieran usar. ¿Qué tipo de problema podría ser este? <br>"
      ],
      "id": "hired-chart"
    },
    {
      "cell_type": "markdown",
      "metadata": {
        "id": "zcXpoUehtg0u"
      },
      "source": [
        "## 5: Respuestas a ejercicios\n"
      ],
      "id": "zcXpoUehtg0u"
    },
    {
      "cell_type": "markdown",
      "metadata": {
        "id": "e9qL4kFIt0qT"
      },
      "source": [
        "### 2a. Preguntas del reto\n",
        "\n",
        "**Pregunta 1** <br>\n",
        "\n",
        "R= Categorical. <br>\n",
        "\n",
        "**Pregunta 2** <br>\n",
        "\n",
        "R= Numerical. <br>\n",
        "\n",
        "**Pregunta 3** <br>\n",
        "\n",
        "R= Numerical. <br>"
      ],
      "id": "e9qL4kFIt0qT"
    },
    {
      "cell_type": "markdown",
      "metadata": {
        "id": "qFAnU6QQua4f"
      },
      "source": [
        "### 3a: Ejercicio del reto 1\n",
        "\n",
        "Pista:\n",
        "```\n",
        "binvalues = [20, 25, 30, 35, 40, 85]\n",
        "bins = binvalues\n",
        "```"
      ],
      "id": "qFAnU6QQua4f"
    },
    {
      "cell_type": "code",
      "metadata": {
        "id": "1jlfnrDxtjLY"
      },
      "source": [
        "## Ejemplo, diferentes anchos de bins.\n",
        "### RESPUESTA\n",
        "binvalues = [20, 25, 30, 35, 40, 85]\n",
        "f = plt.figure(figsize=(8,4))\n",
        "ax = f.add_subplot(1,1,1)\n",
        "data[\"Age\"].hist(ax=ax, bins = binvalues, edgecolor='black', linewidth=2) # Ejemplo con bordes de bin.\n",
        "ax.set_ylim([0, 510])\n",
        "ax.set_title(\"Age range of patients\")\n",
        "ax.set_xlabel(\"Age\")\n",
        "ax.set_ylabel(\"Count\")\n",
        "f.tight_layout()"
      ],
      "id": "1jlfnrDxtjLY",
      "execution_count": null,
      "outputs": []
    },
    {
      "cell_type": "markdown",
      "metadata": {
        "id": "Xzrtu3pgutda"
      },
      "source": [
        "### 3a: Ejercicio del reto 2"
      ],
      "id": "Xzrtu3pgutda"
    },
    {
      "cell_type": "code",
      "metadata": {
        "id": "daJRGw7buwlY"
      },
      "source": [
        "## Ejemplo, diferentes anchos de bins.\n",
        "### RESPUESTA\n",
        "f = plt.figure(figsize=(8,4))\n",
        "ax = f.add_subplot(1,1,1)\n",
        "data[\"Age\"].hist(ax=ax, bins = 5, edgecolor='black', linewidth=2) # Ejemplo con bins enteros.\n",
        "ax.set_title(\"Age range of patients\")\n",
        "ax.set_ylim([0, 510])\n",
        "ax.set_xlabel(\"Age\")\n",
        "ax.set_ylabel(\"Count\")\n",
        "f.tight_layout()"
      ],
      "id": "daJRGw7buwlY",
      "execution_count": null,
      "outputs": []
    },
    {
      "cell_type": "markdown",
      "metadata": {
        "id": "FR2rpF-mvFOD"
      },
      "source": [
        "### 3b: Ejercicio del reto 1"
      ],
      "id": "FR2rpF-mvFOD"
    },
    {
      "cell_type": "code",
      "metadata": {
        "id": "SEsZmBOsvJyn"
      },
      "source": [
        "diabetic = data[data[\"Outcome\"] == 1]\n",
        "notdiabetic = data[data[\"Outcome\"] == 0]\n",
        "\n",
        "plt.rcParams['font.size'] = 15 \n",
        "f = plt.figure(figsize=(8,8))\n",
        "ax = f.add_subplot(2,1,1)\n",
        "ax.scatter(diabetic[\"Age\"], diabetic[\"BloodPressure\"], alpha=0.25, c='r')\n",
        "ax.set_title(\"Diabetic: Age range of patients v. Blood Pressure\")\n",
        "ax.set_xlabel(\"Age\")\n",
        "ax.set_ylabel(\"Blood Pressure\")\n",
        "\n",
        "## RESPUESTA\n",
        "ax = f.add_subplot(2,1,2)\n",
        "ax.scatter(notdiabetic[\"Age\"], notdiabetic[\"BloodPressure\"], alpha=0.25, c='b')\n",
        "ax.set_title(\"Diabetic: Blood Pressure v. Age range of patients\")\n",
        "ax.set_ylabel(\"Blood Pressure\")\n",
        "ax.set_xlabel(\"Age\")\n",
        "\n",
        "f.tight_layout() "
      ],
      "id": "SEsZmBOsvJyn",
      "execution_count": null,
      "outputs": []
    },
    {
      "cell_type": "markdown",
      "metadata": {
        "id": "mXxUTVl-vcNL"
      },
      "source": [
        "### 4: Preguntas del reto\n",
        "\n",
        "**Pregunta 1** <br>\n",
        "\n",
        "R= Supervisado - Regresión. <br>\n",
        "\n",
        "**Pregunta 2** <br>\n",
        "\n",
        "R= Supervisado - Clasificación. <br>\n",
        "\n",
        "**Pregunta 3** <br>\n",
        "\n",
        "R= Aprendizaje no supervisado - Clustering <br>"
      ],
      "id": "mXxUTVl-vcNL"
    }
  ]
}