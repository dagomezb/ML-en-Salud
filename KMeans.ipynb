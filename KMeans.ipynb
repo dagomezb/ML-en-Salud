{
  "nbformat": 4,
  "nbformat_minor": 0,
  "metadata": {
    "colab": {
      "name": "KMeans.ipynb",
      "provenance": [],
      "collapsed_sections": [],
      "authorship_tag": "ABX9TyOP5BQiXzrcCJim9uTvCmu+",
      "include_colab_link": true
    },
    "kernelspec": {
      "name": "python3",
      "display_name": "Python 3"
    },
    "language_info": {
      "name": "python"
    }
  },
  "cells": [
    {
      "cell_type": "markdown",
      "metadata": {
        "id": "view-in-github",
        "colab_type": "text"
      },
      "source": [
        "<a href=\"https://colab.research.google.com/github/dagomezb/ML-en-Salud/blob/main/KMeans.ipynb\" target=\"_parent\"><img src=\"https://colab.research.google.com/assets/colab-badge.svg\" alt=\"Open In Colab\"/></a>"
      ]
    },
    {
      "cell_type": "markdown",
      "source": [
        "**K-Means**"
      ],
      "metadata": {
        "id": "TEnO-GgNWbIE"
      }
    },
    {
      "cell_type": "code",
      "execution_count": 1,
      "metadata": {
        "id": "00GZcKGKWYSq"
      },
      "outputs": [],
      "source": [
        "import pandas as pd\n",
        "import matplotlib.pyplot as plt"
      ]
    },
    {
      "cell_type": "code",
      "source": [
        "data = pd.read_csv(\"Wholesale customers data.csv\")"
      ],
      "metadata": {
        "id": "hyZMIOxuWpzf"
      },
      "execution_count": 2,
      "outputs": []
    },
    {
      "cell_type": "code",
      "source": [
        "data"
      ],
      "metadata": {
        "colab": {
          "base_uri": "https://localhost:8080/",
          "height": 424
        },
        "id": "V3osCgCTW_TZ",
        "outputId": "33c44ff6-67be-47d1-ddc5-54eae36864ca"
      },
      "execution_count": 3,
      "outputs": [
        {
          "output_type": "execute_result",
          "data": {
            "text/plain": [
              "     Channel  Region  Fresh   Milk  Grocery  Frozen  Detergents_Paper  \\\n",
              "0          2       3  12669   9656     7561     214              2674   \n",
              "1          2       3   7057   9810     9568    1762              3293   \n",
              "2          2       3   6353   8808     7684    2405              3516   \n",
              "3          1       3  13265   1196     4221    6404               507   \n",
              "4          2       3  22615   5410     7198    3915              1777   \n",
              "..       ...     ...    ...    ...      ...     ...               ...   \n",
              "435        1       3  29703  12051    16027   13135               182   \n",
              "436        1       3  39228   1431      764    4510                93   \n",
              "437        2       3  14531  15488    30243     437             14841   \n",
              "438        1       3  10290   1981     2232    1038               168   \n",
              "439        1       3   2787   1698     2510      65               477   \n",
              "\n",
              "     Delicassen  \n",
              "0          1338  \n",
              "1          1776  \n",
              "2          7844  \n",
              "3          1788  \n",
              "4          5185  \n",
              "..          ...  \n",
              "435        2204  \n",
              "436        2346  \n",
              "437        1867  \n",
              "438        2125  \n",
              "439          52  \n",
              "\n",
              "[440 rows x 8 columns]"
            ],
            "text/html": [
              "\n",
              "  <div id=\"df-381bf83c-a582-4841-8357-e93af4e8aa05\">\n",
              "    <div class=\"colab-df-container\">\n",
              "      <div>\n",
              "<style scoped>\n",
              "    .dataframe tbody tr th:only-of-type {\n",
              "        vertical-align: middle;\n",
              "    }\n",
              "\n",
              "    .dataframe tbody tr th {\n",
              "        vertical-align: top;\n",
              "    }\n",
              "\n",
              "    .dataframe thead th {\n",
              "        text-align: right;\n",
              "    }\n",
              "</style>\n",
              "<table border=\"1\" class=\"dataframe\">\n",
              "  <thead>\n",
              "    <tr style=\"text-align: right;\">\n",
              "      <th></th>\n",
              "      <th>Channel</th>\n",
              "      <th>Region</th>\n",
              "      <th>Fresh</th>\n",
              "      <th>Milk</th>\n",
              "      <th>Grocery</th>\n",
              "      <th>Frozen</th>\n",
              "      <th>Detergents_Paper</th>\n",
              "      <th>Delicassen</th>\n",
              "    </tr>\n",
              "  </thead>\n",
              "  <tbody>\n",
              "    <tr>\n",
              "      <th>0</th>\n",
              "      <td>2</td>\n",
              "      <td>3</td>\n",
              "      <td>12669</td>\n",
              "      <td>9656</td>\n",
              "      <td>7561</td>\n",
              "      <td>214</td>\n",
              "      <td>2674</td>\n",
              "      <td>1338</td>\n",
              "    </tr>\n",
              "    <tr>\n",
              "      <th>1</th>\n",
              "      <td>2</td>\n",
              "      <td>3</td>\n",
              "      <td>7057</td>\n",
              "      <td>9810</td>\n",
              "      <td>9568</td>\n",
              "      <td>1762</td>\n",
              "      <td>3293</td>\n",
              "      <td>1776</td>\n",
              "    </tr>\n",
              "    <tr>\n",
              "      <th>2</th>\n",
              "      <td>2</td>\n",
              "      <td>3</td>\n",
              "      <td>6353</td>\n",
              "      <td>8808</td>\n",
              "      <td>7684</td>\n",
              "      <td>2405</td>\n",
              "      <td>3516</td>\n",
              "      <td>7844</td>\n",
              "    </tr>\n",
              "    <tr>\n",
              "      <th>3</th>\n",
              "      <td>1</td>\n",
              "      <td>3</td>\n",
              "      <td>13265</td>\n",
              "      <td>1196</td>\n",
              "      <td>4221</td>\n",
              "      <td>6404</td>\n",
              "      <td>507</td>\n",
              "      <td>1788</td>\n",
              "    </tr>\n",
              "    <tr>\n",
              "      <th>4</th>\n",
              "      <td>2</td>\n",
              "      <td>3</td>\n",
              "      <td>22615</td>\n",
              "      <td>5410</td>\n",
              "      <td>7198</td>\n",
              "      <td>3915</td>\n",
              "      <td>1777</td>\n",
              "      <td>5185</td>\n",
              "    </tr>\n",
              "    <tr>\n",
              "      <th>...</th>\n",
              "      <td>...</td>\n",
              "      <td>...</td>\n",
              "      <td>...</td>\n",
              "      <td>...</td>\n",
              "      <td>...</td>\n",
              "      <td>...</td>\n",
              "      <td>...</td>\n",
              "      <td>...</td>\n",
              "    </tr>\n",
              "    <tr>\n",
              "      <th>435</th>\n",
              "      <td>1</td>\n",
              "      <td>3</td>\n",
              "      <td>29703</td>\n",
              "      <td>12051</td>\n",
              "      <td>16027</td>\n",
              "      <td>13135</td>\n",
              "      <td>182</td>\n",
              "      <td>2204</td>\n",
              "    </tr>\n",
              "    <tr>\n",
              "      <th>436</th>\n",
              "      <td>1</td>\n",
              "      <td>3</td>\n",
              "      <td>39228</td>\n",
              "      <td>1431</td>\n",
              "      <td>764</td>\n",
              "      <td>4510</td>\n",
              "      <td>93</td>\n",
              "      <td>2346</td>\n",
              "    </tr>\n",
              "    <tr>\n",
              "      <th>437</th>\n",
              "      <td>2</td>\n",
              "      <td>3</td>\n",
              "      <td>14531</td>\n",
              "      <td>15488</td>\n",
              "      <td>30243</td>\n",
              "      <td>437</td>\n",
              "      <td>14841</td>\n",
              "      <td>1867</td>\n",
              "    </tr>\n",
              "    <tr>\n",
              "      <th>438</th>\n",
              "      <td>1</td>\n",
              "      <td>3</td>\n",
              "      <td>10290</td>\n",
              "      <td>1981</td>\n",
              "      <td>2232</td>\n",
              "      <td>1038</td>\n",
              "      <td>168</td>\n",
              "      <td>2125</td>\n",
              "    </tr>\n",
              "    <tr>\n",
              "      <th>439</th>\n",
              "      <td>1</td>\n",
              "      <td>3</td>\n",
              "      <td>2787</td>\n",
              "      <td>1698</td>\n",
              "      <td>2510</td>\n",
              "      <td>65</td>\n",
              "      <td>477</td>\n",
              "      <td>52</td>\n",
              "    </tr>\n",
              "  </tbody>\n",
              "</table>\n",
              "<p>440 rows × 8 columns</p>\n",
              "</div>\n",
              "      <button class=\"colab-df-convert\" onclick=\"convertToInteractive('df-381bf83c-a582-4841-8357-e93af4e8aa05')\"\n",
              "              title=\"Convert this dataframe to an interactive table.\"\n",
              "              style=\"display:none;\">\n",
              "        \n",
              "  <svg xmlns=\"http://www.w3.org/2000/svg\" height=\"24px\"viewBox=\"0 0 24 24\"\n",
              "       width=\"24px\">\n",
              "    <path d=\"M0 0h24v24H0V0z\" fill=\"none\"/>\n",
              "    <path d=\"M18.56 5.44l.94 2.06.94-2.06 2.06-.94-2.06-.94-.94-2.06-.94 2.06-2.06.94zm-11 1L8.5 8.5l.94-2.06 2.06-.94-2.06-.94L8.5 2.5l-.94 2.06-2.06.94zm10 10l.94 2.06.94-2.06 2.06-.94-2.06-.94-.94-2.06-.94 2.06-2.06.94z\"/><path d=\"M17.41 7.96l-1.37-1.37c-.4-.4-.92-.59-1.43-.59-.52 0-1.04.2-1.43.59L10.3 9.45l-7.72 7.72c-.78.78-.78 2.05 0 2.83L4 21.41c.39.39.9.59 1.41.59.51 0 1.02-.2 1.41-.59l7.78-7.78 2.81-2.81c.8-.78.8-2.07 0-2.86zM5.41 20L4 18.59l7.72-7.72 1.47 1.35L5.41 20z\"/>\n",
              "  </svg>\n",
              "      </button>\n",
              "      \n",
              "  <style>\n",
              "    .colab-df-container {\n",
              "      display:flex;\n",
              "      flex-wrap:wrap;\n",
              "      gap: 12px;\n",
              "    }\n",
              "\n",
              "    .colab-df-convert {\n",
              "      background-color: #E8F0FE;\n",
              "      border: none;\n",
              "      border-radius: 50%;\n",
              "      cursor: pointer;\n",
              "      display: none;\n",
              "      fill: #1967D2;\n",
              "      height: 32px;\n",
              "      padding: 0 0 0 0;\n",
              "      width: 32px;\n",
              "    }\n",
              "\n",
              "    .colab-df-convert:hover {\n",
              "      background-color: #E2EBFA;\n",
              "      box-shadow: 0px 1px 2px rgba(60, 64, 67, 0.3), 0px 1px 3px 1px rgba(60, 64, 67, 0.15);\n",
              "      fill: #174EA6;\n",
              "    }\n",
              "\n",
              "    [theme=dark] .colab-df-convert {\n",
              "      background-color: #3B4455;\n",
              "      fill: #D2E3FC;\n",
              "    }\n",
              "\n",
              "    [theme=dark] .colab-df-convert:hover {\n",
              "      background-color: #434B5C;\n",
              "      box-shadow: 0px 1px 3px 1px rgba(0, 0, 0, 0.15);\n",
              "      filter: drop-shadow(0px 1px 2px rgba(0, 0, 0, 0.3));\n",
              "      fill: #FFFFFF;\n",
              "    }\n",
              "  </style>\n",
              "\n",
              "      <script>\n",
              "        const buttonEl =\n",
              "          document.querySelector('#df-381bf83c-a582-4841-8357-e93af4e8aa05 button.colab-df-convert');\n",
              "        buttonEl.style.display =\n",
              "          google.colab.kernel.accessAllowed ? 'block' : 'none';\n",
              "\n",
              "        async function convertToInteractive(key) {\n",
              "          const element = document.querySelector('#df-381bf83c-a582-4841-8357-e93af4e8aa05');\n",
              "          const dataTable =\n",
              "            await google.colab.kernel.invokeFunction('convertToInteractive',\n",
              "                                                     [key], {});\n",
              "          if (!dataTable) return;\n",
              "\n",
              "          const docLinkHtml = 'Like what you see? Visit the ' +\n",
              "            '<a target=\"_blank\" href=https://colab.research.google.com/notebooks/data_table.ipynb>data table notebook</a>'\n",
              "            + ' to learn more about interactive tables.';\n",
              "          element.innerHTML = '';\n",
              "          dataTable['output_type'] = 'display_data';\n",
              "          await google.colab.output.renderOutput(dataTable, element);\n",
              "          const docLink = document.createElement('div');\n",
              "          docLink.innerHTML = docLinkHtml;\n",
              "          element.appendChild(docLink);\n",
              "        }\n",
              "      </script>\n",
              "    </div>\n",
              "  </div>\n",
              "  "
            ]
          },
          "metadata": {},
          "execution_count": 3
        }
      ]
    },
    {
      "cell_type": "code",
      "source": [
        "data.shape"
      ],
      "metadata": {
        "colab": {
          "base_uri": "https://localhost:8080/"
        },
        "id": "OZKE-gUlXGi6",
        "outputId": "57e13d2f-45d3-4f40-84fa-9a183768884d"
      },
      "execution_count": 4,
      "outputs": [
        {
          "output_type": "execute_result",
          "data": {
            "text/plain": [
              "(440, 8)"
            ]
          },
          "metadata": {},
          "execution_count": 4
        }
      ]
    },
    {
      "cell_type": "code",
      "source": [
        "data.isnull().sum()"
      ],
      "metadata": {
        "colab": {
          "base_uri": "https://localhost:8080/"
        },
        "id": "dKPtYPoFXVQK",
        "outputId": "1d117eeb-47a4-4ca7-a9c9-6a7b9362b84a"
      },
      "execution_count": 6,
      "outputs": [
        {
          "output_type": "execute_result",
          "data": {
            "text/plain": [
              "Channel             0\n",
              "Region              0\n",
              "Fresh               0\n",
              "Milk                0\n",
              "Grocery             0\n",
              "Frozen              0\n",
              "Detergents_Paper    0\n",
              "Delicassen          0\n",
              "dtype: int64"
            ]
          },
          "metadata": {},
          "execution_count": 6
        }
      ]
    },
    {
      "cell_type": "code",
      "source": [
        "data.dtypes"
      ],
      "metadata": {
        "colab": {
          "base_uri": "https://localhost:8080/"
        },
        "id": "IoserYZuXb94",
        "outputId": "221c8c09-394e-4b42-a65e-180a86d3f18f"
      },
      "execution_count": 8,
      "outputs": [
        {
          "output_type": "execute_result",
          "data": {
            "text/plain": [
              "Channel             int64\n",
              "Region              int64\n",
              "Fresh               int64\n",
              "Milk                int64\n",
              "Grocery             int64\n",
              "Frozen              int64\n",
              "Detergents_Paper    int64\n",
              "Delicassen          int64\n",
              "dtype: object"
            ]
          },
          "metadata": {},
          "execution_count": 8
        }
      ]
    },
    {
      "cell_type": "code",
      "source": [
        "indices = [26,176,392]"
      ],
      "metadata": {
        "id": "tqHPQGzbXffR"
      },
      "execution_count": 9,
      "outputs": []
    },
    {
      "cell_type": "code",
      "source": [
        "muestras = pd.DataFrame(data.loc[indices], columns = data.keys()).reset_index(drop = True)\n",
        "muestras"
      ],
      "metadata": {
        "colab": {
          "base_uri": "https://localhost:8080/",
          "height": 143
        },
        "id": "8HMI1o7xXsBp",
        "outputId": "1b3d3a93-f1e5-455f-aabb-53c3f4c3eb31"
      },
      "execution_count": 12,
      "outputs": [
        {
          "output_type": "execute_result",
          "data": {
            "text/plain": [
              "   Channel  Region  Fresh  Milk  Grocery  Frozen  Detergents_Paper  Delicassen\n",
              "0        1       3   9898   961     2861    3151               242         833\n",
              "1        1       3  45640  6958     6536    7368              1532         230\n",
              "2        1       3    518  4180     3600     659               122         654"
            ],
            "text/html": [
              "\n",
              "  <div id=\"df-4b371e68-9f62-48d7-8c83-3dcff7d29278\">\n",
              "    <div class=\"colab-df-container\">\n",
              "      <div>\n",
              "<style scoped>\n",
              "    .dataframe tbody tr th:only-of-type {\n",
              "        vertical-align: middle;\n",
              "    }\n",
              "\n",
              "    .dataframe tbody tr th {\n",
              "        vertical-align: top;\n",
              "    }\n",
              "\n",
              "    .dataframe thead th {\n",
              "        text-align: right;\n",
              "    }\n",
              "</style>\n",
              "<table border=\"1\" class=\"dataframe\">\n",
              "  <thead>\n",
              "    <tr style=\"text-align: right;\">\n",
              "      <th></th>\n",
              "      <th>Channel</th>\n",
              "      <th>Region</th>\n",
              "      <th>Fresh</th>\n",
              "      <th>Milk</th>\n",
              "      <th>Grocery</th>\n",
              "      <th>Frozen</th>\n",
              "      <th>Detergents_Paper</th>\n",
              "      <th>Delicassen</th>\n",
              "    </tr>\n",
              "  </thead>\n",
              "  <tbody>\n",
              "    <tr>\n",
              "      <th>0</th>\n",
              "      <td>1</td>\n",
              "      <td>3</td>\n",
              "      <td>9898</td>\n",
              "      <td>961</td>\n",
              "      <td>2861</td>\n",
              "      <td>3151</td>\n",
              "      <td>242</td>\n",
              "      <td>833</td>\n",
              "    </tr>\n",
              "    <tr>\n",
              "      <th>1</th>\n",
              "      <td>1</td>\n",
              "      <td>3</td>\n",
              "      <td>45640</td>\n",
              "      <td>6958</td>\n",
              "      <td>6536</td>\n",
              "      <td>7368</td>\n",
              "      <td>1532</td>\n",
              "      <td>230</td>\n",
              "    </tr>\n",
              "    <tr>\n",
              "      <th>2</th>\n",
              "      <td>1</td>\n",
              "      <td>3</td>\n",
              "      <td>518</td>\n",
              "      <td>4180</td>\n",
              "      <td>3600</td>\n",
              "      <td>659</td>\n",
              "      <td>122</td>\n",
              "      <td>654</td>\n",
              "    </tr>\n",
              "  </tbody>\n",
              "</table>\n",
              "</div>\n",
              "      <button class=\"colab-df-convert\" onclick=\"convertToInteractive('df-4b371e68-9f62-48d7-8c83-3dcff7d29278')\"\n",
              "              title=\"Convert this dataframe to an interactive table.\"\n",
              "              style=\"display:none;\">\n",
              "        \n",
              "  <svg xmlns=\"http://www.w3.org/2000/svg\" height=\"24px\"viewBox=\"0 0 24 24\"\n",
              "       width=\"24px\">\n",
              "    <path d=\"M0 0h24v24H0V0z\" fill=\"none\"/>\n",
              "    <path d=\"M18.56 5.44l.94 2.06.94-2.06 2.06-.94-2.06-.94-.94-2.06-.94 2.06-2.06.94zm-11 1L8.5 8.5l.94-2.06 2.06-.94-2.06-.94L8.5 2.5l-.94 2.06-2.06.94zm10 10l.94 2.06.94-2.06 2.06-.94-2.06-.94-.94-2.06-.94 2.06-2.06.94z\"/><path d=\"M17.41 7.96l-1.37-1.37c-.4-.4-.92-.59-1.43-.59-.52 0-1.04.2-1.43.59L10.3 9.45l-7.72 7.72c-.78.78-.78 2.05 0 2.83L4 21.41c.39.39.9.59 1.41.59.51 0 1.02-.2 1.41-.59l7.78-7.78 2.81-2.81c.8-.78.8-2.07 0-2.86zM5.41 20L4 18.59l7.72-7.72 1.47 1.35L5.41 20z\"/>\n",
              "  </svg>\n",
              "      </button>\n",
              "      \n",
              "  <style>\n",
              "    .colab-df-container {\n",
              "      display:flex;\n",
              "      flex-wrap:wrap;\n",
              "      gap: 12px;\n",
              "    }\n",
              "\n",
              "    .colab-df-convert {\n",
              "      background-color: #E8F0FE;\n",
              "      border: none;\n",
              "      border-radius: 50%;\n",
              "      cursor: pointer;\n",
              "      display: none;\n",
              "      fill: #1967D2;\n",
              "      height: 32px;\n",
              "      padding: 0 0 0 0;\n",
              "      width: 32px;\n",
              "    }\n",
              "\n",
              "    .colab-df-convert:hover {\n",
              "      background-color: #E2EBFA;\n",
              "      box-shadow: 0px 1px 2px rgba(60, 64, 67, 0.3), 0px 1px 3px 1px rgba(60, 64, 67, 0.15);\n",
              "      fill: #174EA6;\n",
              "    }\n",
              "\n",
              "    [theme=dark] .colab-df-convert {\n",
              "      background-color: #3B4455;\n",
              "      fill: #D2E3FC;\n",
              "    }\n",
              "\n",
              "    [theme=dark] .colab-df-convert:hover {\n",
              "      background-color: #434B5C;\n",
              "      box-shadow: 0px 1px 3px 1px rgba(0, 0, 0, 0.15);\n",
              "      filter: drop-shadow(0px 1px 2px rgba(0, 0, 0, 0.3));\n",
              "      fill: #FFFFFF;\n",
              "    }\n",
              "  </style>\n",
              "\n",
              "      <script>\n",
              "        const buttonEl =\n",
              "          document.querySelector('#df-4b371e68-9f62-48d7-8c83-3dcff7d29278 button.colab-df-convert');\n",
              "        buttonEl.style.display =\n",
              "          google.colab.kernel.accessAllowed ? 'block' : 'none';\n",
              "\n",
              "        async function convertToInteractive(key) {\n",
              "          const element = document.querySelector('#df-4b371e68-9f62-48d7-8c83-3dcff7d29278');\n",
              "          const dataTable =\n",
              "            await google.colab.kernel.invokeFunction('convertToInteractive',\n",
              "                                                     [key], {});\n",
              "          if (!dataTable) return;\n",
              "\n",
              "          const docLinkHtml = 'Like what you see? Visit the ' +\n",
              "            '<a target=\"_blank\" href=https://colab.research.google.com/notebooks/data_table.ipynb>data table notebook</a>'\n",
              "            + ' to learn more about interactive tables.';\n",
              "          element.innerHTML = '';\n",
              "          dataTable['output_type'] = 'display_data';\n",
              "          await google.colab.output.renderOutput(dataTable, element);\n",
              "          const docLink = document.createElement('div');\n",
              "          docLink.innerHTML = docLinkHtml;\n",
              "          element.appendChild(docLink);\n",
              "        }\n",
              "      </script>\n",
              "    </div>\n",
              "  </div>\n",
              "  "
            ]
          },
          "metadata": {},
          "execution_count": 12
        }
      ]
    },
    {
      "cell_type": "code",
      "source": [
        "data = data.drop(indices, axis = 0)"
      ],
      "metadata": {
        "id": "dHmvYPWGX5s4"
      },
      "execution_count": 13,
      "outputs": []
    },
    {
      "cell_type": "code",
      "source": [
        "#procesamiento de los datos\n",
        "\n",
        "data = data.drop(['Region', 'Channel'], axis = 1)\n",
        "muestras = muestras.drop(['Region', 'Channel'], axis = 1)"
      ],
      "metadata": {
        "id": "uyT9nhfIYPAo"
      },
      "execution_count": 15,
      "outputs": []
    },
    {
      "cell_type": "code",
      "source": [
        "from sklearn import preprocessing\n",
        "\n",
        "data_escalada = preprocessing.Normalizer().fit_transform(data)\n",
        "muestras_escalada = preprocessing.Normalizer().fit_transform(muestras)"
      ],
      "metadata": {
        "id": "DiZsbW-FYgqA"
      },
      "execution_count": 16,
      "outputs": []
    },
    {
      "cell_type": "code",
      "source": [
        "from sklearn.cluster import KMeans\n",
        "\n",
        "X = data_escalada.copy()\n"
      ],
      "metadata": {
        "id": "jhBxLov2Y-2w"
      },
      "execution_count": 17,
      "outputs": []
    },
    {
      "cell_type": "code",
      "source": [
        "inercia = []\n",
        "for i in range(1,20):\n",
        "  algoritmo = KMeans(n_clusters= i, init='k-means++', max_iter=300, n_init=10)\n",
        "  algoritmo.fit(X)\n",
        "  #Para cada K se calcula la suma total del cuadrado dentro del clúster\n",
        "  inercia.append(algoritmo.inertia_)"
      ],
      "metadata": {
        "id": "yzQZtlgTZL2x"
      },
      "execution_count": 18,
      "outputs": []
    },
    {
      "cell_type": "markdown",
      "source": [
        "**Ejercicio**\n",
        "\n",
        "Visualizar la gráfica de codo para seleccionar el valor de K"
      ],
      "metadata": {
        "id": "qenFjKB4aHF-"
      }
    },
    {
      "cell_type": "code",
      "source": [
        "algoritmo = KMeans(n_clusters= 6, init='k-means++', max_iter=300, n_init=10)"
      ],
      "metadata": {
        "id": "AsX8yqzdZvj9"
      },
      "execution_count": 19,
      "outputs": []
    },
    {
      "cell_type": "code",
      "source": [
        "algoritmo.fit(X)"
      ],
      "metadata": {
        "colab": {
          "base_uri": "https://localhost:8080/"
        },
        "id": "xeQARfy9aXEZ",
        "outputId": "30858dda-9558-4725-f555-a894beaccdbc"
      },
      "execution_count": 20,
      "outputs": [
        {
          "output_type": "execute_result",
          "data": {
            "text/plain": [
              "KMeans(n_clusters=6)"
            ]
          },
          "metadata": {},
          "execution_count": 20
        }
      ]
    },
    {
      "cell_type": "code",
      "source": [
        "centroides, etiquetas = algoritmo.cluster_centers_, algoritmo.labels_"
      ],
      "metadata": {
        "id": "6wKx3nkLaeq3"
      },
      "execution_count": 21,
      "outputs": []
    },
    {
      "cell_type": "code",
      "source": [
        "centroides"
      ],
      "metadata": {
        "colab": {
          "base_uri": "https://localhost:8080/"
        },
        "id": "rO4YoFygapyw",
        "outputId": "7e7f2401-7ec3-43b5-bc90-3edf3c66152e"
      },
      "execution_count": 22,
      "outputs": [
        {
          "output_type": "execute_result",
          "data": {
            "text/plain": [
              "array([[0.72803648, 0.33072405, 0.48711474, 0.09527502, 0.1653676 ,\n",
              "        0.10417967],\n",
              "       [0.17739662, 0.41830554, 0.77669715, 0.07484819, 0.32793034,\n",
              "        0.07008281],\n",
              "       [0.95712216, 0.12012842, 0.16127343, 0.11997754, 0.02901598,\n",
              "        0.05842406],\n",
              "       [0.81285772, 0.20380729, 0.2045692 , 0.44864104, 0.03739865,\n",
              "        0.08314326],\n",
              "       [0.29920311, 0.70542955, 0.46159932, 0.17050098, 0.12347023,\n",
              "        0.191545  ],\n",
              "       [0.42303472, 0.18455606, 0.34478159, 0.75343783, 0.05350116,\n",
              "        0.08201898]])"
            ]
          },
          "metadata": {},
          "execution_count": 22
        }
      ]
    },
    {
      "cell_type": "code",
      "source": [
        "etiquetas"
      ],
      "metadata": {
        "colab": {
          "base_uri": "https://localhost:8080/"
        },
        "id": "8oHgisb6a4lu",
        "outputId": "5d25c804-b6e9-4024-c76a-660999cb75e0"
      },
      "execution_count": 23,
      "outputs": [
        {
          "output_type": "execute_result",
          "data": {
            "text/plain": [
              "array([0, 4, 4, 3, 2, 0, 0, 0, 0, 1, 1, 2, 0, 0, 0, 2, 1, 4, 0, 0, 2, 3,\n",
              "       2, 4, 0, 0, 2, 1, 2, 0, 4, 2, 2, 4, 1, 2, 0, 1, 2, 3, 2, 1, 1, 0,\n",
              "       4, 1, 4, 0, 1, 3, 1, 2, 1, 2, 0, 1, 1, 2, 0, 0, 1, 0, 1, 3, 1, 1,\n",
              "       0, 4, 2, 3, 0, 5, 3, 0, 2, 5, 1, 2, 4, 2, 1, 0, 2, 0, 1, 4, 2, 5,\n",
              "       2, 2, 3, 1, 5, 4, 1, 1, 5, 5, 3, 0, 1, 1, 2, 2, 2, 1, 1, 4, 1, 2,\n",
              "       1, 3, 2, 2, 2, 2, 0, 2, 3, 2, 3, 2, 0, 2, 2, 3, 0, 4, 2, 3, 2, 2,\n",
              "       2, 2, 2, 4, 4, 0, 0, 2, 2, 2, 3, 2, 1, 2, 2, 3, 2, 2, 4, 2, 4, 2,\n",
              "       1, 1, 2, 1, 1, 1, 2, 2, 1, 1, 0, 1, 4, 2, 3, 1, 4, 1, 1, 1, 1, 0,\n",
              "       0, 4, 0, 2, 1, 4, 1, 3, 5, 1, 1, 1, 3, 2, 2, 1, 2, 3, 3, 1, 0, 2,\n",
              "       1, 1, 0, 1, 1, 1, 2, 1, 1, 1, 2, 1, 2, 1, 1, 1, 1, 2, 1, 3, 2, 1,\n",
              "       5, 5, 2, 2, 0, 3, 0, 3, 3, 4, 2, 4, 2, 4, 2, 2, 2, 2, 3, 2, 2, 0,\n",
              "       1, 1, 2, 2, 2, 3, 3, 1, 5, 0, 4, 2, 0, 3, 2, 2, 0, 3, 2, 1, 1, 4,\n",
              "       1, 2, 1, 2, 5, 4, 4, 2, 4, 4, 2, 5, 3, 0, 0, 0, 2, 3, 2, 2, 2, 3,\n",
              "       2, 2, 0, 0, 5, 1, 2, 0, 2, 0, 1, 1, 0, 1, 1, 1, 1, 4, 1, 2, 2, 4,\n",
              "       5, 2, 1, 3, 0, 4, 3, 1, 2, 4, 4, 0, 2, 0, 2, 5, 3, 1, 3, 5, 3, 1,\n",
              "       2, 1, 3, 0, 2, 3, 5, 5, 1, 1, 1, 1, 3, 1, 1, 0, 0, 1, 3, 1, 4, 1,\n",
              "       3, 1, 2, 1, 4, 4, 2, 2, 0, 0, 0, 1, 2, 3, 2, 2, 2, 3, 4, 0, 2, 2,\n",
              "       1, 2, 4, 1, 2, 3, 2, 5, 4, 2, 4, 2, 2, 2, 5, 4, 3, 2, 2, 4, 3, 3,\n",
              "       2, 3, 3, 2, 2, 2, 2, 3, 1, 0, 0, 0, 4, 1, 5, 5, 0, 1, 1, 1, 0, 1,\n",
              "       0, 2, 2, 0, 5, 0, 3, 4, 2, 1, 5, 2, 4, 0, 3, 2, 1, 2, 0],\n",
              "      dtype=int32)"
            ]
          },
          "metadata": {},
          "execution_count": 23
        }
      ]
    },
    {
      "cell_type": "code",
      "source": [
        "muestra_prediccion = algoritmo.predict(muestras_escalada)"
      ],
      "metadata": {
        "id": "XzZDLyKia-JQ"
      },
      "execution_count": 24,
      "outputs": []
    },
    {
      "cell_type": "code",
      "source": [
        "for i,pred in enumerate(muestra_prediccion):\n",
        "  print(\"Muestra\", i, \"se encuentra en el clúster:\", pred)"
      ],
      "metadata": {
        "colab": {
          "base_uri": "https://localhost:8080/"
        },
        "id": "vS2F-71cbN8I",
        "outputId": "06a539cc-f21c-419e-c490-c1f9389c13f4"
      },
      "execution_count": 25,
      "outputs": [
        {
          "output_type": "stream",
          "name": "stdout",
          "text": [
            "Muestra 0 se encuentra en el clúster: 2\n",
            "Muestra 1 se encuentra en el clúster: 2\n",
            "Muestra 2 se encuentra en el clúster: 4\n"
          ]
        }
      ]
    },
    {
      "cell_type": "code",
      "source": [
        "### GRAFICAR LOS DATOS JUNTO A LOS RESULTADOS ###\n",
        "# Se aplica la reducción de dimensionalidad a los datos\n",
        "from sklearn.decomposition import PCA\n",
        "\n",
        "modelo_pca = PCA(n_components = 2)\n",
        "modelo_pca.fit(X)\n",
        "pca = modelo_pca.transform(X) \n",
        "\n",
        "#Se aplica la reducción de dimsensionalidad a los centroides\n",
        "centroides_pca = modelo_pca.transform(centroides)\n",
        "\n",
        "# Se define los colores de cada clúster\n",
        "colores = ['blue', 'red', 'green', 'orange', 'gray', 'brown']\n",
        "\n",
        "#Se asignan los colores a cada clústeres\n",
        "colores_cluster = [colores[etiquetas[i]] for i in range(len(pca))]\n",
        "\n",
        "#Se grafican los componentes PCA\n",
        "plt.scatter(pca[:, 0], pca[:, 1], c = colores_cluster, \n",
        "            marker = 'o',alpha = 0.4)\n",
        "\n",
        "#Se grafican los centroides\n",
        "plt.scatter(centroides_pca[:, 0], centroides_pca[:, 1],\n",
        "            marker = 'x', s = 100, linewidths = 3, c = colores)\n",
        "\n",
        "#Se guardan los datos en una variable para que sea fácil escribir el código\n",
        "xvector = modelo_pca.components_[0] * max(pca[:,0])\n",
        "yvector = modelo_pca.components_[1] * max(pca[:,1])\n",
        "columnas = data.columns\n",
        "\n",
        "#Se grafican los nombres de los clústeres con la distancia del vector\n",
        "for i in range(len(columnas)):\n",
        "    #Se grafican los vectores\n",
        "    plt.arrow(0, 0, xvector[i], yvector[i], color = 'black', \n",
        "              width = 0.0005, head_width = 0.02, alpha = 0.75)\n",
        "    #Se colocan los nombres\n",
        "    plt.text(xvector[i], yvector[i], list(columnas)[i], color='black', \n",
        "             alpha=0.75)\n",
        "\n",
        "plt.show()"
      ],
      "metadata": {
        "colab": {
          "base_uri": "https://localhost:8080/",
          "height": 265
        },
        "id": "qr5P_pz2beaR",
        "outputId": "26e171d7-8d4e-4b7c-fd19-0fbe67972fe5"
      },
      "execution_count": 27,
      "outputs": [
        {
          "output_type": "display_data",
          "data": {
            "text/plain": [
              "<Figure size 432x288 with 1 Axes>"
            ],
            "image/png": "[encoded data removed]"
          },
          "metadata": {
            "needs_background": "light"
          }
        }
      ]
    }
  ]
}