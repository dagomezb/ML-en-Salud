{
  "nbformat": 4,
  "nbformat_minor": 0,
  "metadata": {
    "colab": {
      "name": "caso_0.ipynb",
      "provenance": [],
      "authorship_tag": "ABX9TyO3NCN6ZlNa8kqMWd8MhaQc",
      "include_colab_link": true
    },
    "kernelspec": {
      "name": "python3",
      "display_name": "Python 3"
    },
    "language_info": {
      "name": "python"
    }
  },
  "cells": [
    {
      "cell_type": "markdown",
      "metadata": {
        "id": "view-in-github",
        "colab_type": "text"
      },
      "source": [
        "<a href=\"https://colab.research.google.com/github/dagomezb/ML-en-Salud/blob/main/caso_0.ipynb\" target=\"_parent\"><img src=\"https://colab.research.google.com/assets/colab-badge.svg\" alt=\"Open In Colab\"/></a>"
      ]
    },
    {
      "cell_type": "markdown",
      "source": [
        "# **Ciencia de Datos - Machine Learning - Inteligencia Artificial**"
      ],
      "metadata": {
        "id": "x5V-gdLfBiv2"
      }
    },
    {
      "cell_type": "markdown",
      "source": [
        "**Objetivos**\n",
        "\n",
        "Al final de este caso, debería poder señalar las diferencias entre la ciencia de datos, el aprendizaje automático y la inteligencia artificial. También debería poder identificar ejemplos de cada uno en el mundo real."
      ],
      "metadata": {
        "id": "co_7zmFqBs30"
      }
    },
    {
      "cell_type": "markdown",
      "source": [
        "**Introducción**\n",
        "\n",
        "Actualmente es muy común escuchar términos como ciencia de datos, aprendizaje automático e inteligencia artificial, pero ¿qué significan realmente? ¿Y por qué debería importarte uno u otro?\n",
        "¡Antes de profundizar más, hay algunos conceptos que debemos definir primero!"
      ],
      "metadata": {
        "id": "8VsDNvQZCBlT"
      }
    },
    {
      "cell_type": "markdown",
      "source": [
        "## Conceptos importantes:\n",
        "\n",
        "\n",
        "**¿Qué son los \"datos\"?**\n",
        "\n",
        "Una definición tradicional es que los datos son básicamente información. Definiremos los datos como \"algo cuyo valor es importante\". Actualmente tenemos datos sobre todo y en todas partes.\n",
        "\n",
        "**¿Qué es un algoritmo?**\n",
        "\n",
        "Podemos pensar en un algoritmo como una serie de pasos para realizar una tarea. Son un conjunto de pasos lógicos y secuenciales, finitos y que no pueden ser ambiguos. Los algoritmos son una parte muy esencial de Data Science, ML e AI. \n",
        "\n",
        "**¿Cuál es la diferencia entre exactitud y precisión?**\n",
        "\n",
        "La exactitud de un sistema de medición es “el grado de cercanía de las mediciones de una cantidad al valor real de esa cantidad” y la precisión de un sistema de medición está relacionada con la reproducibilidad y la repetibilidad, es decir, es “el grado en que las mediciones repetidas bajo condiciones sin cambios muestran los mismos resultados”.\n",
        "\n",
        "![Precisión vs Exactitud](https://flyingdonv.com/wp-content/uploads/2020/05/62b782_b27852542d9547118cb2b62316bd57d6.png)\n",
        "\n",
        "**Tomado de: https://flyingdonv.com/wp-content/uploads/2020/05/62b782_b27852542d9547118cb2b62316bd57d6.png**\n",
        "\n",
        "Este concepto es extremadamente importante y lo usaremos mucho"
      ],
      "metadata": {
        "id": "ix4df492CSGD"
      }
    },
    {
      "cell_type": "markdown",
      "source": [
        "## ¿Qué es entonces la ciencia de datos?\n",
        "\n",
        "Ahora que sabemos qué son los datos, ahora podemos preguntar: \"¿Qué es la ciencia de datos?\" La ciencia, en el lenguaje del [método científico](https://www.sciencebuddies.org/science-fair-projects/science-fair/steps-of-the-scientific-method), es:\n",
        "\n",
        "1. Formular hipótesis o conjeturas sobre cómo funciona el mundo, con base en las observaciones del mundo que nos rodea.\n",
        "2. Validar o invalidar esas hipótesis mediante la realización de experimentos.\n",
        "\n",
        "El método científico, tal como se aplica a los datos, se puede resumir como: **\"Formular hipótesis basadas en el mundo que nos rodea, luego analizar los datos relevantes para validar o invalidar nuestras hipótesis\".** \n",
        "\n",
        "“La ciencia de datos es un campo interdisciplinario que utiliza métodos, procesos, algoritmos y sistemas científicos para extraer conocimientos y perspectivas de muchos datos estructurados y no estructurados. La ciencia de datos está relacionada con la minería de datos, el aprendizaje automático y el big data”.\n",
        "\n",
        "Esto suena a Inteligencia Artificial y en realidad no está lejos. Para obtener esta información, utilizamos el aprendizaje automático para hacer predicciones y descubrir esos patrones. Pero Machine Learning no es del todo inteligencia artificial"
      ],
      "metadata": {
        "id": "_mFO1A_5EOts"
      }
    },
    {
      "cell_type": "markdown",
      "source": [
        "**Ejercicio 1**\n",
        "\n",
        "Según su conocimiento sobre la ciencia de datos hasta el momento, ¿cuál de los siguientes puede describirse como un proceso de ciencia de datos? Seleccione todas las que correspondan.\n",
        "\n",
        "(a) Tiene una reunión con su jefe y le presenta algunos datos utilizando gráficos de Excel sin ninguna idea sobre los datos.\n",
        "\n",
        "(b) Observar que los precios de Uber parecen estar correlacionados con un pequeño conjunto de factores, obtener datos de fuente abierta sobre las tarifas de precios de Uber, luego construir un modelo de precios basado en esos factores y verificar que expliquen la mayor parte de la variación en las tarifas.\n",
        "\n",
        "(c) Convertir imágenes de TAC y almacenarlos en una base de datos para su uso posterior.\n",
        "\n",
        "(d) Construir un algoritmo que permita que una computadora reconozca imágenes de gatos y perros.\n",
        "\n",
        "(e) Usar los perfiles y datos de las personas para construir un modelo capaz de predecir su porcentaje de compatibilidad para encontrar la pareja perfecta y el alma gemela de una persona."
      ],
      "metadata": {
        "id": "em6M08A0IHWi"
      }
    },
    {
      "cell_type": "markdown",
      "source": [
        "**Respuesta:**\n",
        "...\n"
      ],
      "metadata": {
        "id": "yjdHHLjLM7Ux"
      }
    },
    {
      "cell_type": "markdown",
      "source": [
        "## Fundamentos del Aprendizaje Automático\n",
        "\n",
        "El aprendizaje automático fue definido en los años 90 por Arthur Samuel, quien lo describió como el \"campo de estudio que le da a la computadora la capacidad de autoaprender sin ser programado explícitamente\", es decir, imbuir conocimiento a las máquinas sin codificarlo y que puede predecir y generar resultados basados ​​en datos de entrada.\n",
        "\n",
        "Machine Learning (ML) se usa en situaciones en las que queremos que la máquina aprenda de los datos, se los damos y luego aplicamos ese conocimiento en nuevos datos. \n",
        "\n",
        "¿Dónde puede encontrar implementaciones de Machine Learning? Bueno, Machine Learning se usa en cualquier lugar, desde automatizar tareas mundanas hasta ofrecer información inteligente, probablemente ya haya usado un dispositivo que lo implemente, como un asistente doméstico inteligente como Google Home o Alexa.\n",
        "\n",
        "Hay muchos usos para ML, veamos un par:\n",
        "\n",
        "• Predicción: para predecir, por ejemplo, demanda, precios, etc.\n",
        "\n",
        "• Reconocimiento de imágenes — detección de rostros, entre otros.\n",
        "\n",
        "• Diagnósticos médicos: ML está capacitado para reconocer tejidos cancerosos o anomalías en imágenes médicas y asistir a los expertos en procesos diagnósticos.\n",
        "\n",
        "• Industria financiera y comercio: las empresas usan ML en investigaciones de fraude y verificaciones de crédito.\n",
        "\n",
        "• Aplicaciones para compartir viajes como Uber y la forma en que determinan el precio de su viaje.\n",
        "\n",
        "También debe saber que el aprendizaje automático se divide principalmente en tres categorías:\n",
        "- Supervisado\n",
        "- No supervisión\n",
        "-\tPor refuerzo\n",
        "\n",
        "Pero no se preocupe por esto por ahora, porque aprenderá todo sobre esto más adelante en el curso."
      ],
      "metadata": {
        "id": "jsagYU3eKmIK"
      }
    },
    {
      "cell_type": "markdown",
      "source": [
        "**Ejercicio 2**\n",
        "\n",
        "Según la definición anterior, ¿cuál de las siguientes tareas probablemente implicaría el uso de \"aprendizaje automático\"? Seleccione todas las que correspondan.\n",
        "\n",
        "(a) Construcción del modelo que respalda el sistema de reconocimiento facial de los iPhone de Apple.\n",
        "\n",
        "(b) Construir el modelo que respalda el sistema de recomendación de películas de Netflix en función de su actividad de visualización anterior.\n",
        "\n",
        "(c) Investigar los factores que afectan los precios de Airbnb y desarrollar una herramienta de precios basada en este análisis.\n",
        "\n",
        "(d) Establecer un sistema automatizado para aprobar o rechazar solicitudes de préstamos hipotecarios."
      ],
      "metadata": {
        "id": "Dl_ck-u_MRQL"
      }
    },
    {
      "cell_type": "markdown",
      "source": [
        "**Respuesta:**\n",
        "...\n"
      ],
      "metadata": {
        "id": "pBZa5ti4M6Ch"
      }
    },
    {
      "cell_type": "markdown",
      "source": [
        "El aprendizaje automático puede ser, y a menudo lo es, parte de la ciencia de datos. **La ciencia de datos es fundamentalmente un proceso, mientras que el aprendizaje automático es una herramienta que puede ser inmensamente útil para llevar a cabo el proceso de ciencia de datos**."
      ],
      "metadata": {
        "id": "Tg3IzNbCNOyx"
      }
    },
    {
      "cell_type": "markdown",
      "source": [
        "**¿Qué es la Inteligencia Artificial?**\n",
        "\n",
        "La inteligencia artificial, o AI para abreviar, existe desde hace un tiempo, desde mediados de la década de 1950. Nada nuevo entonces, ¿verdad? Entonces, ¿qué cambió?\n",
        "\n",
        "Bueno, la IA se volvió súper popular recientemente debido a los avances en las capacidades de procesamiento, en el siglo XX no teníamos la potencia informática necesaria para usar la IA como la tenemos hoy.\n",
        "\n",
        "Pero, ¿qué es la Inteligencia Artificial? En pocas palabras, la IA es la capacidad de permitir que las computadoras entiendan datos, aprendan de ellos y tomen decisiones basadas en patrones ocultos en los datos, o inferencias que de otro modo podrían ser muy difíciles (por no decir casi imposibles) para los humanos lograr manualmente. La idea detrás de la IA es imitar la inteligencia humana, en otras palabras:\n",
        "\n",
        "*“La inteligencia artificial es una tecnología con la que podemos crear sistemas inteligentes que pueden simular la inteligencia humana”*\n",
        "\n",
        "Veamos algunos ejemplos:\n",
        "\n",
        "• Coches autónomos\n",
        "\n",
        "• Asistentes digitales (Siri, Alexa, etc.)\n",
        "\n",
        "• Robots"
      ],
      "metadata": {
        "id": "R61MLwkbNS6h"
      }
    },
    {
      "cell_type": "code",
      "source": [
        "from IPython.display import IFrame"
      ],
      "metadata": {
        "id": "KuVEAA67N1D5"
      },
      "execution_count": null,
      "outputs": []
    },
    {
      "cell_type": "code",
      "source": [
        "# Youtube\n",
        "IFrame('https://www.youtube.com/embed/UwsrzCVZAb8', width=560, height=315)"
      ],
      "metadata": {
        "id": "mAygKWwoN6E6"
      },
      "execution_count": null,
      "outputs": []
    },
    {
      "cell_type": "markdown",
      "source": [
        "## Diferencias entre ML e IA\n",
        "\n",
        "Aunque el aprendizaje automático y la inteligencia artificial son dos tecnologías relacionadas y, a veces, las personas las usan como sinónimos, ambos son términos diferentes en varios casos.\n",
        "\n",
        "“La IA es un concepto más amplio para crear máquinas inteligentes que pueden simular la capacidad y el comportamiento del pensamiento humano, mientras que el aprendizaje automático es una aplicación o subconjunto de la IA que permite que las máquinas aprendan de los datos sin programarlas explícitamente”\n",
        "\n",
        "Echa un vistazo a las siguientes diferencias.\n",
        "![differences.png](data:image/png;base64,iVBORw0KGgoAAAANSUhEUgAAAsQAAAEtCAIAAACAlOEDAAAAAXNSR0IArs4c6QAAAARnQU1BAACxjwv8YQUAAAAJcEhZcwAADsMAAA7DAcdvqGQAADNqSURBVHhe7dpdkus6DiTgs/9Fzeu8zJ56YCaMC4MASVmWJavyC0YFkARVvzrN6Lj//kdERES0Ay8TREREtAsvE0RERLQLLxNERES0Cy8TREREtAsvE0RERLQLLxNERES0Cy8TREREtAsvE0RERLQLLxNERES0Cy8TREREtAsvE0RERLQLLxNERES0Cy8TREREtEu8TPzf//d/uLi4uLi4uLhk6eVghpcJLi4uLi4urnzp5WCGlwkuLi4uLi6ufOnlYIaXCS4uLi4uLq586eVghpcJLi4uLi4urnzp5WCGlwkuLi4uLi6ufOnlYIaXCS4uLi4uLq586eVghpcJLi4uLi4urnzp5WCGlwkuLi4uLi6ufOnlYIaXCS4uLi4uLq586eVghpcJLi4uLi4urnzp5WCGlwkuLi4uLi6ufOnlYIaXCS4uLi4uLq586eVghpcJLi4uLi4urnzp5WCGlwkuLi4uLi6ufOnlYIaXCS4uLi4uLq586eVghpcJLi4uLi4urnzp5WCGlwkuLi4uLi6ufOnlYIaXCS4uLi4uLq586eVg5i9eJv79+xeSrUueAGno+YF+6dDC16NzzWDLhJk9S5/Y9K1P0HJx/frSP2hn68DK0pNN2MLSvc+9Wfq4JmwdvfSzfv3zcu1fejmY+aOXiTf+pv0RPEH0rVZPGKiWDq19MTpaDOve2qNsLc7jyWKl5eK6x9I/62Z9a9PSRxQP0b2Pvln6xK+/rfpZv/55ufYvvRzM/LnLhP5Fb/+b9kfwBNG3Wj1hoFo6tPbF6GgxrHtrj7K1OI8ni5WWi+seS/+sm/WtTUsfUTxE9z76ZukTv/626mf9+ufl2r/0cjDzdy8TImwN1ngeuyLkn136OYrPonuf+6b8wqRIWy6uWy78heNPXUzzN5Y+4ouvkn6+L35Grl9fejmY+VuXCbxCeJdE2DLWhrzXD/SPsqVRU41p/2S53/KhLd177mrTjHcBeditEm1enyywG0LT7/bD/a4tTZs09yEX1/6FPyr8dYlp7kPwW2E3JKHuh7Vq+mFbmna5Ld1+HdCoCKEPra1yMTgF/bAtTV+FGa4vLL0czPAy8bIbhLyfXBywJNQoRDUj0KaJX7qXzYt+QJvuaRZaYbXY2lphyxIrrAbfYteSQW0FF9enlv1F4a9LVKFP1netAN/6MRFa0e9a4ot+YUuExBdpLUJr+nxwamU4JFZwnbL0cjDzhy4T/s8Rf53CkhBaEfI00WZ5wGoUIuT9Vpr4pXv1vDb180OoVVdvarWabWmVjVVtyLV6znBx7V/254Q/LVGFPkl3tXltF8fE1lar55ZfujE7ZUXI3xvb2oZEK7fL9c2ll4MZXiZeBsCHaa79M9Fmy8BiLvrQEr90r57XpmhD6PXD2iy0WnVb3mAsbW1p+irMcHG9vezPCX9aogrD0o0mJDaT5trsaz1s+aUby6c0akJiM2muzVttSLRyu1zfXHo5mPlbl4lUP2BJlWv/TLTZMlDl1qIQYUtY4pfu1fPaFO0g7HNtFlor+i2/NF14oF+adjkX10eW/9PCX5oYJBb2u9q8Dve5Np9oq6VDC6csRyF8LtDa0rQY02atDYkVXKcsvRzM/JXLRP+3iD9QMUiqXPtnos2WgTTXprVa1c8MS/fqeW2KdhD2uTb1o7RvLPS5D/tcm/r545yL6yPL/2nhL00sJlo9d7Vxw2muzSfaaunQ7JSmLddqy5GdbQiFz7m+vPRyMMPLxENIbKbP7SP0A4sJCiSin9GqfkJYulfPa5O1+NjntoVEVDOAFonVYWFSWJuGgDYdGOdcXPtX+HNqf2j/JWhFmmhVz6NAIqoZWGnTAduyhQFRJSiQiHQA0NrStBjTZq210LdcZy29HMzc/zKBv1FIw5RNhnlfp/qB/iGiGtPmdaAaxtJoKIyFg2htadqEdqqat4eHgX6+H0hPTXMurreX/j09WZjuQtgKddgVoRV9MtA/DUv7xkJbuvGU5n0YBrx+GAZHemE4fSBgi+vLSy8HM3/ov5ng+s7S974Txri4uLiqpf9qdMIY1xeWXg5meJng+vzS9/5VmOHi4uIaLP2H41WY4frC0svBDC8TXB9e6QvPfwW4uLjWF/8Zuc7Sy8EMLxNcXFxcXFxc+dLLwQwvE1xcXFxcXFz50svBDC8TXFxcXFxcXPnSy8EMLxNcXFxcXFxc+dLLwQwvE1xcXFxcXFz50svBDC8TXFxcXFxcXPnSy8EMLxNcXFxcXFxc+dLLwQwvE1xcXFxcXFz50svBDC8TXFxcXFxcXPnSy8EMLxNcXFxcXFxc+dLLwQwvE1xcXFxcXFz50svBDC8TXFxcXFxcXPnSy8EMLxNcXFxcXFxc+dLLwQwvE1xcXFxcXFz50svBTHKZ0IqILoCvJBGdhZcJopvgK0lEZ+Flgugm+EoS0Vl4mSC6Cb6SRHQWXiaIboKvJBGdhZcJopvgK0lEZ+Flgugm+EoS0Vl4mSC6Cb6SRHQWXiaIboKvJBGdhZcJopvgK0lEZ+Flgugm+EoS0VkOv0z8+xcPjvl5qdH6MPXewPTUIv8cqz/18I+45Rdz7jdVffbpV3Xclz1+Jd/+gisff2Bw3A/K/NCXOnDiZ5dPPfjs6dZgfqw6OH3g259R2Nk9D/kjjr1M4Bfw3i/7s7+8t5+2ctDPfPbLvqw93+anfkTn/qjf/uzHfdnTy0T/qdNw0dsHFx39/Nv41A9q63PG89jtZ97+ar9/UNjZPQ/5I3iZmFg56Gc++2Vf1p5v81M/onN/1G9/9uO+bF4m/qZP/aC2Pmc8j91+5u2v9vsHhZ3d85A/4pzLhOVBumUhIASNNg6YfuBxprHQVIlI6xACaoQCIWj0HEAoEBpNG42K0PM5xkCjjm43Gjm60VQJaNRo1EJ8BIQCNUKBEDRqNHrOG+yCRo1Gz4fbRy8kK619hLbzEGqjUX1wv+llwj5CnwhpjUaNRo0lPkco+rrtPyAEjRqNXoUck6BRo1Gj0fOshb4Vj4nGahRt8wEhaPQcQBj4vM0qjV7pXqNRRicaS1BAyB9zDULQqNGo0aipEk83mioJkPe76XwI09Y+Qtt5CLXRqD4Y6HajkXu4D0WbUpaggKp9HHhCEuheo9GPOPAy4X8W4efSflD5rtXTUPT5dMDzodShDYXwtRjPVLtpLnzut6paoE3DwMJNwzCdqeYHud9ayVFAmi/OoPUhhMS3/RFL+jAtwOd+y9c77b9MhC/G2jSXjz63OoShDQWEFtKDMH2OFH6rb/vCauFzFKKN/Nd6loeBfn46AOlYdVYKv+VzFLA1N1vnhd+qjnv9fJr0YVqAz/2Wr00Ire0LkQ73A+NEhFZMB67stMuEVk06OQ29aZ4O+DAMpAc3zaS74u1chC0YzBsL092x6ScNA9PPtTi/Kf/gWQiT/cFwajpgqoP77b9MBLaVzoQwHV6ZEaGFlecElo/n+7HpAITWVPNT0wd6Iaw+aZWbo+eF36qOB+GxofUFTAdMdXBg/PDqgaGo8nVb58911GWi/yn4JOymW9PQC7m0xhIUng/DQHpQ6sByFKIP/a7weWA5CvBt2ILHyVe64fiwmgkwBho5PsSMZzmKIOTV/Kb8g2chTPYHw6npgKkO7rf4SqIIrSeJsQSFF8J0eDATIPd8iBlPNxqNGktQQNVO56s88LnU1ZjBDGjU6XerdjAmddgVCD3LUQQh3zovfDI9hSK0voDpgKkO9mTLWBIK4WtRDfe5kNq3KcyARr/gwMtET/def7gi3ZqGXjosxgerUyI9mD5EpDPpE0SVm2pepEeq53j9jCSDg34rHZsOiMXc2j351rMCdRgw/W5IwsE+DwOmOrjfRy4Tvq1moDqYPgHSmcrgOV46Fuardjpf5UGfS7IyXM2Y9hidCcPT3Ejiw34AFnNrB/M93Zt9ln7SknCwz8OAqQ4GPu+fme5CmOknw7yQpA/B59XMNR14mdDqafAzSremoVcNjA/6cOVg+hCRzqRPEFVuqnmRHqme4y1+LgjhdGbTw0X1/D351rMCdRgw/W5IwsE+DwOmOrjf/stE+GLSGbMyvDJTGTzHLD5/OjYdgNCa9XzxgQHGqrOLz6zmzWL+xnN8Mj7VT1oSDvZ5GDDVQa+a6QsxHu4nw7zp85BUB6/pkMvE9Gc3+JGlM9OD1ak0Nz4MA+nBTTPVbpqLaS7SrcG8sXDTsJB6ZUarxtpv5oszobWPqX6rP26s7QuY5vut3+8Xa2t9LtCmoS/EyowILWx9jtRpLqp2Ou9zqX3rWR4G+nmfSN0PQMjR+vBx8tn6WvgcBWzNzab56UOqAdFv+STs9g+cDkBowYdSW9sXwtdisCUWD0IY7geu7CqXCUBtIQoRaqNRMYDaQhSeD8OAPwihFUhEWocQUCMUCEGj1wHRt0ajIvR8jjHQqKPbbQAfA+yK0AokoFGjUfdAa6tcSG00yuaNRo1GLcRHE9qg3/VJ9agwYzSqD+63/zIhpAXUCAVCsAQFpHk1I6Q2Gr0KOSZBo0ajFuKjL6BqV+alBtQIA5+3WaXRK90bPlBgBjQqzloLCEGjRqNGo0aj4gmgG41GLdTKSUNheTUg+i2fhN30gVIbjeqDQTv0gNrCUMBj7kmjJrSiHzAavdK9touPv+KQywQN/Nbfx82EH/7Nfhd8JY/Gl5eowsvE4e79P2AXN/7h3+x3wVfy4/jyEi3iZeIb5N8goxF9i/7cG42eoTZ3wVfyCPhTAY2IqMPLBNFN8JUkorPwMkF0E3wliegsvEwQ3QRfSSI6Cy8TRDfBV5KIzvIDl4nqv3v66f8e6ie+qU99MUd8Uz/92z/Ily8TP/E3fClv/2Ts4KYnfPkXIZ/uy5/xaN//dtLP+Cs/VV4mznH0F3+pH870i3njq/3p3/5BLnKZ+JQv/Ip/5VPYQzY97Qvfnfnm59pv8audjh33Xfsnf/CzHPcFC14mznH0F3+pH870i3njq/3p3/5BeJnY6lc+hT1k09O+8N2Zb36u/Ra/2unYcd+1f/IHP8txX7A48DIhX7fR6PnNIBQIQaNGowYtcoFQhNpo1GjUaNTR7UajV8gxICwEtEL7RqNGo0aj4pnCahRt8wEhaNRo9Er3mirp6XZjiS/azoOFgFb4WlgbZsx60sMWZgRC4WthLYrHaGMhoBXaNxoVZy9o/EriK8e3ICwEtEL7RqNGo8YSnyMUfd32HxCCRo1Gjm40VZLSiUajFmrVoG0jynKDRKBGKCwEtEL7RqMuxEdACBoVobAWRdgVfSJ8KLXRqNGo0eh50ELfisfEK91o0FrY9uMAoEYoLAS0AXIMCISgUaNRo1FTJZ5uPD8RQoEQ1hMvhGlrH00fSu1p2mj0PGLQthGF/LOOukyEL9fa9o38t+VzFBBmQlsVMM29xRmf9619NNYOcr/lcyusFj5HAaE16VlIj6QzFkphtejbUECfTwdENRNI7res9qHwud/qW/torH2MdsMXNH0lw3cRWvtorE1z+ehzq0MY2lBAaCE9COm8qMZW8sGM3+pb+2j6AbA6nU9DCAfDpOgTEU6Zldxv9a1WThgIrVaNtW1q9RRUMz4UW3Pjc6mt9blI82rG9MODJGyFVqvXWli7mH/WCZcJFFB9bz6fPmo6sC49Uj0fxkfSXVE9pDo4zQOfrxwZh+MnTMdCbtKB6iFBNbY1h9DC4tnreO+VhPSbsnC8C+nwyowILaw8Z8zGquM+X5kR4xZ8mNbpqWB8MN0N0mGxcz497sPF44tj3sqMsHw6EHzq+SLdCgf75/SF8LVY2VrMP+vAy0RgOQroW6NRfcQXAXIR2grGQCMnhIP2cf7JEhRByPv5wUCAPPB5mBkcqSarHKZjfW4sQSGQe7rxKuTWbs3Bt1IbS1BAaK/jU5cJqY0lKLwQpsODmQC558MwkM6bx+OeLEEBab4yIwat1EajbiAUvcfhJ42yg+lu4IcD5KBRYwkKGLfgw8Xji2Pe9IjR6Blq89QnEPK+NZagMNgFjRwLUYQ2LYSvxcrWYv5ZB14mtHpVfZNipRbW9kVFBgYzfisdC2HVps8Jw2b6kOnAmB+rHpWSXRvoC6jalTytq4GBMJY+SkxzSMcWz17HRy4TPk9Ds+kJkM5UVp7TS09Vx9NhmJ6FdGxa+9DbdBC1T4L0VNA/0BcwbiF9DlTt4pg3mKlqkGQ8ACGvjli9OG8Q9mOW9IXwtVjZWsw/6yqXiSoX0yNhoJKOVQ/3xjNoq5mQm+n8dGDMj1WPGsCMTY6fMB1bHxBhprLyKDHNAe17Z69j/2Wimgk5rAyvzFRWnhNUYyv51rOAdjCT1mEeVh7Sh+GUl57yQl7Nj1vw4eLxxTHvvUeZat5Uz1nJqxkPYX/Kkr4QvhYrW4v5Z33pMrHpm5R63FYFTHPPh1JPZ0Ta+lBqa30u1vOtBwOfrxxJZywcPyEdk7rPrRBtP8+1akJrqrHwqDQXaetDqa31uQjtdXz2MiG1tT4XaNPQF2JlRoQWVp4ThCPWLuZaNemMSFsfSh1arVztQ4E2TIY2FAK1T4L0lEhzqdNcjFvw4eLxxTFPQp9bHcI0F1VufC61tYu5Vq8zQZ/7xOo0hJWtMJPmH3fUZULgewCNum8mbAFqhMISQChCbTRqNGo06uj287Mg9EJYtVKADwVC0Gj4kFBAOGs06ui2e5pB0tPtxpJQwKCVGlBbiEK0zQfUfehbgaQXtnzbzj2gthAFVK0UEEIUENrr2H+ZQAE+FAjBEhSQ5tWMkNpo9Er33GMNkpROtBl8BIQCdR/6ViARvhZV+zjT+FAgFKgRCoSg0XA4FBDaIDzBaNRo1EJ89AWMW/BhPyCJ0Wj22NACQvkICEGj5wBCgRA0Kp4AulE/B3UfhhYfe33uE6ulAB9C3xqNGo1en4BEoP2sAy8TRPRNfCX/moP+V+Gy/tr3+1t4mSC6Cb6Sfw0vE3QdvEwQ3QRfyb9D/mf1D/4vKy8TV8bLBNFN8JUkorPwMkF0E3wliegsvEwQ3QRfSSI6Cy8TRDfBV5KIznLUZWLrfynzqf+yhv+FDv1Zf+Qycal33L6Y6VeVDvDfK7qNu10miP6sP3KZuJQ3/uHyR/jvHt0GLxNEN8HLxPfxMkEEx14m5CMgBI0ajYbzQtPGEhQGic8f008aNWj7nOinvfdKovYhakACGj3nLcRHnxgkAjVCYSFYm4aAVliNom0+IASNngMIAwyARtkwEvsIbefBah+KNqUs6XN89IXpE6IrO/Ay4V8Gq30ofO63qlqgDaEIeXoKpA67RDfw9iuZ5mBtmPG51cLXwto2lT9BoO7D0PaF1cLnKEQb+a81IfRtWktR5aEQvhZox5PhiOgTois78DKhVVO9M9O8lx7pw/CEdJjoTj77SsJ0LOTB9DigXZlJC5jm3ngGrQ+r+b4QYRimk9MnEF3ZCZeJwHIUEFrRZpUlKEQf+l2RDhPdyXUuExIaS1BA2q7MpAVMc0/CQDeeQlK1fSHCMEwnp08gurITLhMogmoefNvX6a4PRTpDdCcXuUz4ZHoc0K7MpAVMcy8NvfFDrO0LEYZhZRJtepzo4n7gMjHdSoenp4hu5gqXiT1jKzNpAdPcS0ODXT9TPbMvRBiGlUm06XGiizvwMuFfCat9KKa5CLVvRdUOxsIW0T189pWEdEzqNBe+bVPzMYF2ZSYtIM2l9q0JoW/TWooqD4XwtUD7xiTRDznwMoGPgBA0ajTq3p++BdQIYdA+Djxp1Ixboh/13ivpa8AAaNRo9HyOhShMG3lAbSEKSNuVmbQA30oNqBEGGACNsmEk9hHazoPVPhRtSlliBfjQrCREF3TUZYKIvmzlMvEpP/S/cB/5Ur/2/fLqQD+Klwmimzj0MhGOX/l/8474Ur/2/V75B0s0wMsE0U0cepkQ8gSj0VXpV9lotM+nnjPwwa+W6Pt4mSC6Cb6SRHQWXiaIboKvJBGdhZcJopvgK0lEZ+Flgugm+EoS0Vl4mSC6Cb6SRHQWXiaIboKvJBGdhZcJopvgK0lEZ+Flgugm+EoS0Vl4mSC6Cb6SRHQWXiaIboKvJBGdhZcJopvgK0lEZ+Flgugm+EoS0Vl4mSC6Cb6SRHQWXiaIboKvJBGdhZcJopvgK0lEZ+Flgugm+EoS0Vl4mSC6Cb6SRHQWXiaIboKvJBGdhZcJopvgK0lEZ+Flgugm+EoS0Vl4mSC6Cb6SRHSWXZcJLi4uLi4uLi5ZejmY4f8zQXRpfCWJ6Cy8TBDdBF9JIjoLLxNEN8FXkojOwssE0U3wlSSis/AyQXQTfCWJ6Cy8TBDdBF9JIjoLLxNEN8FXkojOwssE0U3wlSSis/AyQXQTfCWJ6Cy8TBDdBF9JIjoLLxNEN8FXkojOcshl4l8Nuxg71xtfRvsOylPpVjU/eM65LvuF0dRfeyXblx+PVA8JeTXmrcx8nH3SUz77JtVXeLWv/Ptfj3zGb37S73+DqUMuE17/fV7kO9/6ZYznsXvEN7v/CZt8+dMd4crfwqFf2596JathyfutPuxn9vjg0+xRn/0Kj3DWV7j183756/z+j2XlM37hq+JlYtV4HrtHfLP7n7DJlz/dEa78LRz6tfEyISTvt/qwn9njg0+zR332KzzCWV/h1s/75a/z+z+Wlc/4ha/qtMuEfASEoFGjUUe3nw9BKBCCRk+aNhq9nvUwBhoNHw7I+93xPEhtNHrStKmSHrYwIywEtEL7RqPnWWNtm1JIUjrRaNTR7cYSn1sIaIX2jUYNWuQedj3daDSqQ3wECwGtQI1QIBS+FmjbiLLcIBGoQ7jiV15JjRqNmtAaTEKVGCQ+7xPRH+yFhxiNnjRtNBrOG91uNHKf1IeiTSlLUMBKKx/BQkALGjUaNRo1lvgcoejrtv+AEDRqNGo0ajRydKOpksDnGAONGo0ajRq0yEWoe7rXoLWw7ccBQI1QWAhoA917HkQoEIJGWahNg2S/cy4TPrTahyK0EA5a63Ph22or5LD+HG8wVp2yfDrvk+kwSO63+tY+Gmv7SV9AaM3KWDojH33et/bRhIHQavUq5GjTEIXf6lsrqhwFpPlgJmwt+olXsspF2ILF5xjkfrdPRHXcs5np2fFAPy+qmb4Q6XA/MD4SdkMbChjn8tHnVocwtKGAae75cNN8NTx4iNTW+lr42gszodWqsbZNrZ4SYddanwvfVrUI7dvOuUxo1Vi78h3uOQvVERg8Z+WZYvAEz/LBY2HPw2HllIV9IVae0EvHVsKVT+fDlXkxfY6wdvzM6dhKvnh23S++kj5PZ6rnjB/od/tEVMc9m5kOjx/+3ufyp6oHhqLPTUjGrRk8UFQP8fnKjKjylJ+pnuNVD0+Hhc+rWmw9Lqp2ccxMB8Dn1YwYbG1yrctEgNwLobVVbiQxlqDwQujbdF70+dZTUldjIkxq1VSnxmPhgcYS+2ja/gvdyOhEo9Grfmu9fZx80mh23KR5dXb8zOnYSi51YDmKrX7olZTWaNTNQAitTYdFGKjmq+Oen5F6cCRsjVvv8dAnS0IhfC2q4T43IZm2xhIUXgjT4cFMgFyEtheGtWrSgxZKESAHjRqNXh/oaxFas37E2sUxM503GhUPMRrtc63LBIqBxbODtjoCKwcDyXu6Nzyl1VM7lwz7MAyk82I8Zq3PfYjaEuHrsfVTsmsDYbJqfV7VIrQmzauz42dOx1byMGOqfOpXXsmV2lTPSYdFGKjmq+NePyNJejCE49b43Oq+EOEJYaafDPMiJIM2rcM8VA9JnwDpTEoGqhmfh5n0iIXVA0X1zKoW1dPWj1i7OGYGAyu1GGy97f6XicUjsP4c0+fvnYJNT1t8SNpWMz5Pw4HqmQOYGR+czoyPmzSvzo6fOR1bycOMqfKpn3glq1yELVh8jgkD1Xx13Ktm+nz88PQ51UxfiPFwPxnmRUiqdjGHleGVmYF0bOX5noXprhg8pKrFytPGR6xdHDNvPKeqRWjfdt3LRPod+lBqa30ufBtqa31uQujblXlj+daBft4n02EYj6H1odTWhjwUEFoTzqZjIUSbhqafkTq0WjWhNelYdbbKwY/5LZ+jEG0kz7Vq0plNfuKV9Plj+rXVygmhtemwqB5YPWfAZqZnxwP9vPCh1Nb2hfC1GGyJPhGDJwhrfS51mgu0aegLsTIjprnnw03z1bDPpQ6tVvXxYP2ItYtjxidSW1vlYlD7do8LXSbE49t60qij220AHwEhaPSk6esRK4I2qDRqQgtpKCyfDgipjUaObrgHGiS9sFW1j0c0IUQBPjdIUjrx+swAA2AJCqjax4HGh8LXoo08aO/oRqNRHWrVVC0K+QgIQaPnQB/6ViARvt7kV15JjbJ5rV61WaXRcFir4cOl7enek08wABo5urE8D7rdBvAxLeAx96RRE1rRJ2J8yrdSA2qEAiFYggLSvJoRUhuNGo0ajV7p3nNXmwZJ4HOMgUaNRi3ER6hqEVozOCIkMRrNnhxaeJxvUCMUCAVqhAKh6Ft83O/wy8ShPvVTIHrPpf4C+UoS0Vl+7DIR/qniv1x0Ll4m+EoSkfixy4SQf62MRkQnudQfIV9JIjrL710miCjFV5KIzsLLBNFN8JUkorPwMkF0E3wliegsvEwQ3QRfSSI6Cy8TRDfBV5KIzvLnLhP2H5z3xRv4n6/Dz/0cbvmL+8IredDP7dd/Hfx3gOi6l4mv/bO15xP9yj8iR3+dv/JzMD/3Ba846JX0P6s3fm7VkZ2PpSMc/YvY+Xz+nVwZLxO7PtGv/HEf/XX+ys/B/NwXvIKXCdrp6F/Ezufz7+TKDrxMyC/eoEVufNKmVN+miUCNUFgIaAPL+wJ8K7XR6BVyDAiEwtfCWhSP0cZCQCu0bzRq0CIXCEGjRqMnTZsq6el2o1GjUaNRC+2jF2aMRh3dbjSqQ3wECwGtQI1QIBShNpagMH1yQVtfSdC+0cjRjQatD9uI0qjRqH64Rg1aH7YRpVFjCQrTJ9AOKY3qEB8BYUonnvMW+tb4AYMkpRONRo1GjUZ1qFVjLYrHqCug7T9o31RJT7cbjVqoVYO2jag0Ryh8LdC2EYWcLuWoy0T4fad/AZaELbQ+TAdQ+K2+1cqxsC/E4HhoQUKfW+1D4XO/1bf20YSB0IYCQivSU9APi2pmnIddMT3opTPVQSn8Vt9aUeWhgDQPM5e19ZW0jyb9Tn0odWhDAelMEGZCGwpAG0LRJ2LlrLVS+C1fe2HGWhTWmjTvx6AaS/NNwyh8jQJ8W9UitFDNrOc+sdqHosrpUr50mQAfVrUZDFhb5RBa6M/2BYxbqGa25hBa8GE1nx70Vh7iVQ+szvaFqGoRWlgJrR0/cDo2HRCow8CV7XwlxXRmZV4MjpiVx67kYcZUuZc+UCw+sz/uB9JQhLZSHYfqIdXnquaF36pqkT6hmtmaw9bjdClHXSaE/OLD7963/VafaPXc9SxHAeMW+rMo+mFJAt1wQmjt1hx8K7XRaGFem06Y1KqpTj0e122FxNq+EKEOdMNZCa2tcpiO+SJADqG9uJ2vpAgt+HB63GhUPFMMZqyVIrAchfC1V+Xi8aAnS1BAaE01lj7HhwHylE40lqDw0lCEfPAQSYxGr2PY8nTDCaG1W3PYepwu5cDLBMiv3/8FoPaJ12Z1y8/42gv5uAULfYHaEghtqjqyNYd0rKpFaIUkfSh8GAbSefN43MLZfqaaHEhnqueMnz8dqwaC8e7VvPFKhm8wtODDwfxK7Q1mrK3OCmxNB3o+tzoMr5wV6XHUfbIiPZUer54Z8uohvl2pK9Vjt+aw9ThdyuGXCQh/DeO/iX6mmg/5uAUL+0JUdSXMpM8U0xzQDmbGx02fv/EQz2aqsz5HXU0OpDPVc8bPn45VAx62BgNX88YrGb679Jv1YTU/eE7YMoMZa6uzAlvTgSCE1lZ5sHIcdZ9MhTFr0+PVM1ceUs2IwViqetTWHLYep0s56jIx/muodqGfqearHEIL/Vk/VtUitFDNhOekuUhbH0odWq0aa6vcrDzEq2a25mY6INKZ6mCVgx/zWz4PBaR5mLmsN17JNAx8WM2HmdBq9WowY22VC9RhwEvPhidY63MRWuPzx+G14+PW+Fxqa30u0KahL4TUVa7V64yoahFaqGbCc9Jc+C1hdQjTnK7mqMuEwB8BaNSEFjAGIQmtQCJ8LcYtWNgX4FupjUavQu7bdugBtYUooGqlAB8KX4uwZTRydOO5pU2DpKfbjUaNRo1GLdSqCS20E0qjjm43Gr31Ga1FIR8BoQi1sQSF6ZMLeu+V1L7R6JXutV18NL5tIw+oEQqEQvsnTbt54ds2ojR66pMAp0AjF6K2EAWE1nucbFBbiAJCKx4HnjTK6MTrwwVC0Kh+pkavD7EC2v4DaoQCoQitQNLT7UajRqPXT4FEWNuHoNHCcbqIAy8TFf4F0Nf8qT+2t1/JH3X6L5f/lO3EH+Cd8DJBd8bLxI19/5cbPiP/KduJP8A7+eplQv50+NdD3/Sn/t7+zmXixH9J8KlBI3oXf4Z38tXLBBEdh68kEZ2Flwmim+ArSURn4WWC6Cb4ShLRWXiZILoJvpJEdJaLXiaq/zCH/8EOUYWXCSI6Cy8TRDfBywQRnYWXCaKb4GWCiM5y1GUC/6svHwGhQO1D1IBEoEYoEApfC+yCRsVZbV7HjEZEv4yXCSI6y4GXCf8/0lZXOVjbpvLjKISvhZ/xW31rH01oiX4RLxNEdJYDLxNaNdaO/1d8OubzrWcBbQiJboCXCSI6y29fJgLLUUDVPg68bhH9NF4miOgsv32Z0OpVdRb6NiREP4qXCSI6y1+/TED1KKIfwssEEZ3lwMuE/19oq30oqlYKv+VzFMLXIp0RaTueIfpFvEwQ0VkOvEzgIyAUvgYMgEbLx7ELGmUzWjXWPs48IYHQEv0KXiaI6CzHXiaI6Gt4mSCis/AyQXQTvEwQ0Vl4mSC6CV4miOgsR10miOjL+EoS0Vl4mSC6Cb6SRHQWXiaIboKvJBGdhZcJopvgK0lEZ+Flgugm+EoS0Vl4mSC6Cb6SRHQWXiaIboKvJBGdhZcJopvgK0lEZ+Flgugm+EoS0Vl4mSC6Cb6SRHQWXiaIboKvJBGdhZcJopvgK0lEZ+Flgugm+EoS0Vl4mSC6Cb6SRHQWXiaIboKvJBGdhZcJopvgK0lEZ+Flgugm+EoS0Vl4mSC6Cb6SRHQWXiaIboKvJBGdhZcJopvgK0lEZ+Flgugm+EoS0Vl2XSa4uLi4uLi4uGTp5WCG/88E0aXxlSSis/AyQXQTfCWJ6Cy8TBDdBF9JIjoLLxNEN8FXkojOwssE0U3wlSSis/AyQXQTfCWJ6Cy8TBDdBF9JIjoLLxNEN8FXkojOwssE0U3wlSSis/AyQXQTfCWJ6Cy8TBDdBF9JIjrLUZeJf//i/KL04NtP+7LPftdvsOf0Bd3eZ1/Jat7nt/nrOusbWfkhf98Hv6pzv5FPke/iHt/Ioa51mcCp/uyv/CIP/TpXHm4zp38lbzv04cE3P9cXfPwy0R8JYT/wBUd80lO+EXHW512389c9PXLEMz/ry5/ud/Ey8UmHfp0rD7eZ07+Stx368OCbn+sLeJl42ynfiDjr867b+eueHjnimZ/15U/3u75xmUAtHwFhCrv9zPiUCANVK4VBEiDHgLAQ0ArtG42aqm2DCkngc9Rt9sFCUyXC6r6Ax3SDGqFACBo9BxAKCw0STzcaS1AYv2XWE4EaobAQ0ArtG40c3Wiq5Ld89pVE7nerZFEYrlopDBJPN5oqMZo2GjUaNZb4HGGAHAPCQkALGjUaNRo1lvgcoejrtv+AEDRqNGo0ajR6CknaWiiFsRytaCMJ3X59lEAI60mge02VBMgxIBCCRo1G3byxXYNEoLbQt+Ix0bU93W40+ilfukyEVqtXg5nqiOnPjhMRWpDQ531rH00/AFYP5k04GNpQCF+LfmZ6SmprfS587rd8jiIIOdp+OM2t9flgxm/1rX00oYX+lEnnL+6zryTCfmx6sLLyqPDA0EJ/yqxspbl89LmvTT8T2lDAOJePPrc6hKENBUxz8C3qlQSkrrZMGLDW5yLNq5lg6xEJfW61D4XP/VZVC2sfB17Hxq1WTgjTmYv70mVCq6b6Mb1xxLMZFKH1BYQWxjPTI1anIaw/BKzdNPPeKdiam5V800PCTHU2bUOY8jPjZ/6Ez76SCPtTfbLO5sOj+gJCCz5cmQfbmj5TvDGTHhGWb3qmz1dmRJX3wmR/0D+hqkVoYWVGWF4NiOlZEWbSI9XM1ly8cUSM29TKzNVc5TLRh4MnpGwGRWhRBMi9EA7ax/knjZ4DPhFt5IVuOD4MA9aGmcDyqhC+Fn4msBwFVLn3ONzt+iTUvoV+wLMcBVTt48DrVuB3w+T44DUd9EqiCC2kBwemz5QiQO75EDOebjxp2liCwgvhGzN9ayxB4YUwHR7MBMhFaAPbQhFaX4iqFqGF8Yy0xhIUBrug0Sufh5n0SDUjRWA5CvBttTU4IsatJ1tGo99xoctET/eKIwFm+lOWrD/EVK3PQ402hFrVBvPWrjyzHx6cSme8rfNGBsIM2hBCm/0vr2ov5NM2JMbnYaY6cmW/cpnon2DJygP745V0Mj0SwjdmfJvWYR6qh6RPgHQmJQPpDEK/FZJ+C3wtQguDmbRenPcGM+mRaiYdFoNnLj5qU2t8Xs1c2YUuE1o9DZ6Qwkx/ypL1h5i0HcykdZhPVQ8R6XOqZ/bDg1PpjLd1PvBjqAcH04dX8yEftzANVx5ycbxMeGFr/CmqYW88Y+1iDivDKzMD/RgSn4ek3wJfi9BCNbOSVzPB1iPVTDosBs9cfNSmFlZmLu4Sl4nqB2d5NRCMnxx202eOZ9D6UOrQauVqH4rQQvUQkT5nOjM9JbW1Phdbc1PNC9R9YqzdOiPSdjwDPlyZv7jj7vcr9aL+yOCB6fMX50Ntrc8F2jQMxjPW+lzqNBdo09AXYmVGTHOvD32yUov+ISLMW7uYa/U6E4QxrZr0yONB2REfimku3jgixi34UOp05uJ+8jIxnTf9QaPRq5BX7eN840Pha2HtY/QJSeDzMGPt43ATWoFEWN0X8JhuUCMUCEGj7KwVgNbTjUajpzQxGnUP16ZBInwtqvZx5glJoHvL8xd3ymWiZ1sogj4PyeMRTxq90j33iQwSo2nL8REQgiUoILQwnvGt1IAaoUAIlqCANK9mhNRGo0ajRqNXfe6TUANqhBBa08YfUCMUCAXqPgwtPvYwIEIrkATIMSAQgkaNRs9507dGo4UjWjWhNZIDaoQ/5KjLxKF+8Qd9QV/+MfK3drQTX8kef910EfxT/A5eJv6Q8HP78o+Rv7Wj8TJB1OOf4nf85GWC3ibvldHoeF/+dH8WX0miHv/x+Q5eJohugq8kEZ2Flwmim+ArSURn4WWC6Cb4ShLRWXiZILoJvpJEdJbrXib+2n+1N/1m/YDVR/+I/tSv4Nd97TLx9l/FWX9OX/i8mz4FX6vr4O/iUy56mfjdX/DbX/n0YDpw9A/qd38Rf9D1X8k9Dznr7CK+KW+4wg/Nfw38Je7By8SHvf2VTw+mA0f/oH73F/EH8TJR+cKfMd+UN1zhh+a/Bv4S9zjqMoHfinwEhKBRo1E3b2zXIBGoLfSteEx0bU+3G43qR6EwaWKqBDRqLEEBoRU+mZ6SwiBJ6USj0SvkGBAIha+FtSgeo42FgBY0ajQqjtOir72S+AgIQaPXAWFtmDEaPQdCKJBAlYBGjUbPx5rQQjuhNHpOIhQIjabPGYQBBgRqC31rfCK10aij241G7uGAsKfbjUaNRo1GjUaNJSgg5I85lxgkQvumSgLkfgA1IAGNGktQQJ8/Rp+Q0CYHXib8r8RqHwqf+62qFtY+DryOjVutnBBa+zjZnfUJ9InoDxpr03xwENKBaShCa1bGJPS51T4UPvdbfRsK8Lnf8jVNff+V9KFYzwcDYcv4PMxYu5KHGRgc9FuD2remmkFhrQkDpp8U1YwUfsvXJoTWbsoHw37L16LaGowZCX0eZqxN85XhMEObHHiZ0KpJf3Nimos3johxm5o+2efVA6tcpM8x413h83443YXQVtKx6lFbcwitWTxOY++9ksHK76KaMdXZ6Xw1IFa29jzfq+Z9O9gy1UxfiKoWoU2lzxR7zpo0rz5R9RDwu1Ut0oeMZ6zddNbn6UFadMJlIrAcBfi22hocEePWky1jCQpI8zBj+lwSo9Ez1KZBG0LPb1mdnpI20I2MTjQaOSG0dmsOfWssQQGhpbE9lwlpjSUowLfVjKnO9rmxBEWv32rnlEbPUJsnJH0etKPKEhTg28GWqWb6QoQ60I2ObjeWoIDQeu2QsgRFkOYhHD9EQqPR6yS2PN1wQogxTzeeW9o0VevzMEObnHCZQBFU82LxUZta43OrB2dRhwFvetaTxEKrLQl8bvXjTHfK12PTUyG0dmsOvk3r8XEae/sykdYr82HGVGfTh4h0IAhb1aNAkjCA1oeB37I6zKczEFqoZvrnVJNj/XN8AdWjVs6aNA/h4CE+WakrYWZ6RAZsJgyneZihTf70ZaKaGZxFHQa8fthUp/pnppPpwDQcCGPpqWpmaw47j9PYR17JaS6qGVOdrQ5Wuee3quNB+th0uHpglYvBlqlm+udUkwPVkZVHLZ41ex4yaKu6Mn5yBWPVWZ8vPpBSB14m0l+SD8U0F28cEeMWfCi1tT4XvkUdBrx+GKS21ucCrQ/DAKQD01CE1oSz6VgIrfX542SWi6r1udRpLkJLY/tfyTaS5MK305kw3OdWiLaf5IHfCrW1PhdpHmYgDFjrc+HbUPvWVDM+F6EV0wHhQ6mt9bkILfjwcXJ2Ns19KLW1Phe+bVMvrVbDU2Y8Y22a+1Bqa0OuFW134GUCHwEhaNRo1P0W+9ZotHBEqya0RnJAbSEKGLeB7ELf4iMgBEtQQGiFT6anpDBIUjrRZvAxCKFvH8ca1BaigEErNaC2EAX4NmxRb/8ridpCFND2H1AjFAhBo0aj13krRNt8QG0hil6bfehbfASEoFH32NBCO/GA2kIU0LeAGmGAAYHaQhQQWnicedKoo9vbHy4exxrUCAVC0KjRqNGoeIgVpo08oEYoEIrQCiRBn2MYNGo0ajR6/XT46AvRNh+sRUErjr1M3BL/wuia/uwr+Sv4K6Ab42ViM/6LQNfEy8TVhJ85fwV0Y7xMbCDfFP85oMviZeKC8I8GaER0R0ddJojoy/hKEtFZeJkgugm+kkR0Fl4miG6CryQRnYWXCaKb4CtJRGfhZYLoJvhKEtFZeJkgugm+kkR0Fl4miG6CryQRnYWXCaKb4CtJRGfhZYLoJvhKEtFZeJkgugm+kkR0Fl4miG6CryQRnYWXCaKb4CtJRGfhZYLoJvhKEtFZeJkgugm+kkR0Fl4miG6CryQRnYWXCaKb4CtJRGfhZYLoJvhKEtFZeJkgugm+kkR0Fl4miG6CryQRnYWXCaKb4CtJRGfhZYLoJvhKEtFZdl0muLi4uLi4uLhk6eVgJl4miIiIiDbhZYKIiIh24WWCiIiIduFlgoiIiHbhZYKIiIh24WWCiIiIduFlgoiIiHb43//+P2TSsgmu2gUzAAAAAElFTkSuQmCC)"
      ],
      "metadata": {
        "id": "OjcCwsk-OgPS"
      }
    },
    {
      "cell_type": "markdown",
      "source": [
        "#### Discuta la diferencia entre el aprendizaje automático y la IA con sus compañeros de clase\n",
        "\n",
        "¿Qué contaría como \"inteligencia artificial\"? ¿Qué demostraciones de aptitud te convencerían, sin lugar a dudas, de que algo es tan inteligente como lo somos los humanos?"
      ],
      "metadata": {
        "id": "9uAVAUiWPXZY"
      }
    },
    {
      "cell_type": "markdown",
      "source": [
        "**¿Qué pueden hacer y qué no pueden hacer las máquinas? ¿Qué pasa con nosotros?**\n",
        "\n",
        "Entonces, ¿hay alguna prueba sensata que podamos usar para determinar si algo es tan inteligente como un humano? Ha habido muchas propuestas a lo largo del tiempo. La prueba de aptitud más famosa desarrollada fue la [**prueba de Turing**](https://www.geeksforgeeks.org/turing-test-artificial-intelligence/), llamada así en honor al matemático inglés y famoso criptógrafo de la Segunda Guerra Mundial Alan Turing. En este examen, hay un evaluador humano y dos interlocutores: una máquina y un humano. El evaluador mantendría una conversación con cada uno a través de un canal de solo texto. Si el evaluador no puede diferenciar de forma fiable a la máquina del ser humano, se dice que la máquina ha pasado la prueba.\n",
        "\n",
        "Turing no declaró explícitamente que su prueba podría usarse como una medida de inteligencia, pero muchos de los que vinieron después de él destacaron su prueba. Por supuesto, la implicación es que si una computadora puede conversar como un humano, entonces es efectivamente tan inteligente como un humano."
      ],
      "metadata": {
        "id": "p2F2SJQBP5Mb"
      }
    },
    {
      "cell_type": "markdown",
      "source": [
        "#### Vamos a debatir:\n",
        "\n",
        "Haga una lluvia de ideas con un compañero y luego discutiremos en voz alta en clase:\n",
        "\n",
        "1. ¿Cuáles son algunas cosas que las máquinas ya pueden hacer mejor que nosotros? ¿Qué específicamente sobre ellos les permite hacer esto mejor?\n",
        "2. ¿Cuáles son algunas cosas que podemos hacer mejor que las máquinas? ¿Crees que esta ventaja probablemente se mantendrá en el tiempo? ¿Por qué?"
      ],
      "metadata": {
        "id": "0pCqUDomQQip"
      }
    },
    {
      "cell_type": "markdown",
      "source": [
        "## Pregunta:\n",
        "\n",
        "Ahora que hemos definido correctamente el aprendizaje automático, ¿quién aquí ha usado el aprendizaje automático en su trabajo? Dé un ejemplo específico."
      ],
      "metadata": {
        "id": "u1bBPieEQeG5"
      }
    },
    {
      "cell_type": "markdown",
      "source": [
        "## Conclusiones\n",
        "\n",
        "En este caso, aprendió qué son realmente la \"ciencia de datos\", el \"aprendizaje automático\" y la \"inteligencia artificial\", en contraste con las connotaciones engañosas que a menudo se les da en la discusión pública. También aprendió que \"inteligencia artificial\" es un término muy ambiguo: nadie está realmente de acuerdo con su definición exacta y no está claro si su enfoque actual de imitar la inteligencia humana es el enfoque correcto.\n",
        "\n",
        "A lo largo de este módulo, nos centraremos principalmente el aprendizaje automático, y un poco en la ciencia de datos. \n",
        "\n",
        "Las preguntas filosóficas que rodean a la inteligencia artificial son fascinantes y los invito a continuar reflexionando sobre ellas a medida que se involucran más en este nuevo y emocionante campo. En las próximas semanas, los capacitaremos en las numerosas técnicas aprendizaje automático y deep learning para que puedan realizar procesos profesionales de ciencia de datos."
      ],
      "metadata": {
        "id": "HB_lQYytQugS"
      }
    },
    {
      "cell_type": "markdown",
      "source": [
        "#### Referencias\n",
        "\n",
        "Este caso es adaptado del curso DS4A - Correlation One."
      ],
      "metadata": {
        "id": "eaoZM8B_Rkj4"
      }
    }
  ]
}